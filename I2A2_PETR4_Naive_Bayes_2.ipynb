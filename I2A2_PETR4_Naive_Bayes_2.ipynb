{
  "nbformat": 4,
  "nbformat_minor": 0,
  "metadata": {
    "colab": {
      "name": "I2A2 - PETR4 - Naive Bayes 2",
      "provenance": [],
      "collapsed_sections": [],
      "include_colab_link": true
    },
    "kernelspec": {
      "name": "python3",
      "display_name": "Python 3"
    },
    "language_info": {
      "name": "python"
    }
  },
  "cells": [
    {
      "cell_type": "markdown",
      "metadata": {
        "id": "view-in-github",
        "colab_type": "text"
      },
      "source": [
        "<a href=\"https://colab.research.google.com/github/nakanoelio/i2a2-challenge-petr4-trad-sys/blob/main/I2A2_PETR4_Naive_Bayes_2.ipynb\" target=\"_parent\"><img src=\"https://colab.research.google.com/assets/colab-badge.svg\" alt=\"Open In Colab\"/></a>"
      ]
    },
    {
      "cell_type": "code",
      "metadata": {
        "colab": {
          "base_uri": "https://localhost:8080/"
        },
        "id": "u00DppU1qmlA",
        "outputId": "fd4986b4-2909-4703-d789-07ccbf65bd2d"
      },
      "source": [
        "!pip install yfinance\n",
        "!pip install --upgrade mplfinance\n",
        "\n",
        "#Instalação da Biblioteca TA-lib\n",
        "url = 'https://launchpad.net/~mario-mariomedina/+archive/ubuntu/talib/+files'\n",
        "!wget $url/libta-lib0_0.4.0-oneiric1_amd64.deb -qO libta.deb\n",
        "!wget $url/ta-lib0-dev_0.4.0-oneiric1_amd64.deb -qO ta.deb\n",
        "!dpkg -i libta.deb ta.deb\n",
        "!pip install ta-lib"
      ],
      "execution_count": 149,
      "outputs": [
        {
          "output_type": "stream",
          "text": [
            "Requirement already satisfied: yfinance in /usr/local/lib/python3.7/dist-packages (0.1.59)\n",
            "Requirement already satisfied: requests>=2.20 in /usr/local/lib/python3.7/dist-packages (from yfinance) (2.23.0)\n",
            "Requirement already satisfied: lxml>=4.5.1 in /usr/local/lib/python3.7/dist-packages (from yfinance) (4.6.3)\n",
            "Requirement already satisfied: numpy>=1.15 in /usr/local/lib/python3.7/dist-packages (from yfinance) (1.19.5)\n",
            "Requirement already satisfied: pandas>=0.24 in /usr/local/lib/python3.7/dist-packages (from yfinance) (1.1.5)\n",
            "Requirement already satisfied: multitasking>=0.0.7 in /usr/local/lib/python3.7/dist-packages (from yfinance) (0.0.9)\n",
            "Requirement already satisfied: chardet<4,>=3.0.2 in /usr/local/lib/python3.7/dist-packages (from requests>=2.20->yfinance) (3.0.4)\n",
            "Requirement already satisfied: idna<3,>=2.5 in /usr/local/lib/python3.7/dist-packages (from requests>=2.20->yfinance) (2.10)\n",
            "Requirement already satisfied: certifi>=2017.4.17 in /usr/local/lib/python3.7/dist-packages (from requests>=2.20->yfinance) (2020.12.5)\n",
            "Requirement already satisfied: urllib3!=1.25.0,!=1.25.1,<1.26,>=1.21.1 in /usr/local/lib/python3.7/dist-packages (from requests>=2.20->yfinance) (1.24.3)\n",
            "Requirement already satisfied: python-dateutil>=2.7.3 in /usr/local/lib/python3.7/dist-packages (from pandas>=0.24->yfinance) (2.8.1)\n",
            "Requirement already satisfied: pytz>=2017.2 in /usr/local/lib/python3.7/dist-packages (from pandas>=0.24->yfinance) (2018.9)\n",
            "Requirement already satisfied: six>=1.5 in /usr/local/lib/python3.7/dist-packages (from python-dateutil>=2.7.3->pandas>=0.24->yfinance) (1.15.0)\n",
            "Requirement already up-to-date: mplfinance in /usr/local/lib/python3.7/dist-packages (0.12.7a17)\n",
            "Requirement already satisfied, skipping upgrade: pandas in /usr/local/lib/python3.7/dist-packages (from mplfinance) (1.1.5)\n",
            "Requirement already satisfied, skipping upgrade: matplotlib in /usr/local/lib/python3.7/dist-packages (from mplfinance) (3.2.2)\n",
            "Requirement already satisfied, skipping upgrade: numpy>=1.15.4 in /usr/local/lib/python3.7/dist-packages (from pandas->mplfinance) (1.19.5)\n",
            "Requirement already satisfied, skipping upgrade: python-dateutil>=2.7.3 in /usr/local/lib/python3.7/dist-packages (from pandas->mplfinance) (2.8.1)\n",
            "Requirement already satisfied, skipping upgrade: pytz>=2017.2 in /usr/local/lib/python3.7/dist-packages (from pandas->mplfinance) (2018.9)\n",
            "Requirement already satisfied, skipping upgrade: kiwisolver>=1.0.1 in /usr/local/lib/python3.7/dist-packages (from matplotlib->mplfinance) (1.3.1)\n",
            "Requirement already satisfied, skipping upgrade: pyparsing!=2.0.4,!=2.1.2,!=2.1.6,>=2.0.1 in /usr/local/lib/python3.7/dist-packages (from matplotlib->mplfinance) (2.4.7)\n",
            "Requirement already satisfied, skipping upgrade: cycler>=0.10 in /usr/local/lib/python3.7/dist-packages (from matplotlib->mplfinance) (0.10.0)\n",
            "Requirement already satisfied, skipping upgrade: six>=1.5 in /usr/local/lib/python3.7/dist-packages (from python-dateutil>=2.7.3->pandas->mplfinance) (1.15.0)\n",
            "(Reading database ... 160798 files and directories currently installed.)\n",
            "Preparing to unpack libta.deb ...\n",
            "Unpacking libta-lib0 (0.4.0-oneiric1) over (0.4.0-oneiric1) ...\n",
            "Preparing to unpack ta.deb ...\n",
            "Unpacking ta-lib0-dev (0.4.0-oneiric1) over (0.4.0-oneiric1) ...\n",
            "Setting up libta-lib0 (0.4.0-oneiric1) ...\n",
            "Setting up ta-lib0-dev (0.4.0-oneiric1) ...\n",
            "Processing triggers for man-db (2.8.3-2ubuntu0.1) ...\n",
            "Processing triggers for libc-bin (2.27-3ubuntu1.2) ...\n",
            "/sbin/ldconfig.real: /usr/local/lib/python3.7/dist-packages/ideep4py/lib/libmkldnn.so.0 is not a symbolic link\n",
            "\n",
            "Requirement already satisfied: ta-lib in /usr/local/lib/python3.7/dist-packages (0.4.20)\n",
            "Requirement already satisfied: numpy in /usr/local/lib/python3.7/dist-packages (from ta-lib) (1.19.5)\n"
          ],
          "name": "stdout"
        }
      ]
    },
    {
      "cell_type": "code",
      "metadata": {
        "id": "kvZh3R1wqokh"
      },
      "source": [
        "import numpy as np\n",
        "import pandas as pd\n",
        "import scipy as sp\n",
        "import seaborn as sn\n",
        "import matplotlib.pyplot as plt\n",
        "\n",
        "import yfinance as yf\n",
        "\n",
        "import talib as ta\n",
        "\n",
        "from sklearn import metrics\n",
        "from sklearn.linear_model import LinearRegression\n",
        "from sklearn.naive_bayes import GaussianNB, MultinomialNB, ComplementNB, BernoulliNB, CategoricalNB"
      ],
      "execution_count": 150,
      "outputs": []
    },
    {
      "cell_type": "code",
      "metadata": {
        "id": "HpGlGEySVdxS"
      },
      "source": [
        "%matplotlib inline"
      ],
      "execution_count": 151,
      "outputs": []
    },
    {
      "cell_type": "code",
      "metadata": {
        "id": "Qd_i6bGErBW5"
      },
      "source": [
        "stock_ticker = 'PETR4.SA'\n",
        "start_date = '2015-11-30'\n",
        "end_date = '2021-5-27'\n",
        "\n",
        "yf_petr4 = yf.Ticker(stock_ticker)\n",
        "df_petr4 = yf_petr4.history(start=start_date, end=end_date)\n",
        "\n",
        "stock_ticker = '^BVSP'\n",
        "yf_ibov = yf.Ticker(stock_ticker)\n",
        "df_ibov = yf_ibov.history(start=start_date, end=end_date)"
      ],
      "execution_count": 152,
      "outputs": []
    },
    {
      "cell_type": "code",
      "metadata": {
        "colab": {
          "base_uri": "https://localhost:8080/"
        },
        "id": "rts7-GpW2_Pc",
        "outputId": "0dac35bb-ba26-4579-e3bf-973befb4aeea"
      },
      "source": [
        "df_petr4.info()"
      ],
      "execution_count": 153,
      "outputs": [
        {
          "output_type": "stream",
          "text": [
            "<class 'pandas.core.frame.DataFrame'>\n",
            "DatetimeIndex: 1360 entries, 2015-11-30 to 2021-05-26\n",
            "Data columns (total 7 columns):\n",
            " #   Column        Non-Null Count  Dtype  \n",
            "---  ------        --------------  -----  \n",
            " 0   Open          1360 non-null   float64\n",
            " 1   High          1360 non-null   float64\n",
            " 2   Low           1360 non-null   float64\n",
            " 3   Close         1360 non-null   float64\n",
            " 4   Volume        1360 non-null   int64  \n",
            " 5   Dividends     1360 non-null   float64\n",
            " 6   Stock Splits  1360 non-null   int64  \n",
            "dtypes: float64(5), int64(2)\n",
            "memory usage: 85.0 KB\n"
          ],
          "name": "stdout"
        }
      ]
    },
    {
      "cell_type": "code",
      "metadata": {
        "colab": {
          "base_uri": "https://localhost:8080/",
          "height": 1000
        },
        "id": "BK7ie086d_dP",
        "outputId": "e5c5bf53-08d7-40fd-ab79-d436584365a7"
      },
      "source": [
        "\n",
        "plt.style.use('classic')\n",
        "fig, ax = plt.subplots(2,5,figsize=(20,15))\n",
        "\n",
        "ax[0,0].set_title(\"Close Price + Linear Trend\")\n",
        "ax[0,1].set_title(\"Histograma Price\")\n",
        "ax[0,2].set_title(\"Variância Price\")\n",
        "ax[0,3].set_title(\"PETR4 x IBOV\")\n",
        "\n",
        "ax[1,0].set_title(\"Close Return + Linear Trend\")\n",
        "ax[1,1].set_title(\"Histogram Return\")\n",
        "ax[1,2].set_title(\"Variance Retrun\")\n",
        "ax[1,3].set_title(\"Return PETR4 x IBOV\")\n",
        "\n",
        "def regress(y_data):\n",
        "\n",
        "    y = y_data\n",
        "    x = np.linspace(1, len(y), num=len(y))\n",
        "    coef = np.polyfit(x, y, deg=1, rcond=None, full=False, w=None, cov=False)\n",
        "\n",
        "    return [np.poly1d(coef)(i) for i in x]\n",
        "\n",
        "x_reg = [df_petr4[\"Close\"].head(1).index.item(),df_petr4[\"Close\"].tail(1).index.item()]\n",
        "y_reg = [regress(df_petr4[\"Close\"])[0],regress(df_petr4[\"Close\"])[-1]]\n",
        "\n",
        "sn.lineplot(data=df_petr4[\"Close\"],ax=ax[0,0])\n",
        "sn.lineplot(x=x_reg, y=y_reg,ax=ax[0,0],color=\"red\")\n",
        "sn.histplot(data=df_petr4[\"Close\"],bins=100,ax=ax[0,1],color=\"green\")\n",
        "sn.lineplot(data=df_petr4[\"Close\"].rolling(15).var(),ax=ax[0,2],color=\"orange\")\n",
        "sn.lineplot(data=(df_ibov[\"Close\"]-df_ibov[\"Close\"].mean())/df_ibov[\"Close\"].std(),ax=ax[0,3])\n",
        "sn.lineplot(data=(df_petr4[\"Close\"]-df_petr4[\"Close\"].mean())/df_petr4[\"Close\"].std(),ax=ax[0,3],color=\"red\")\n",
        "sn.boxplot(data=df_petr4[\"Close\"],ax=ax[0,4],color=\"purple\")\n",
        "\n",
        "x_reg_rt = [df_petr4[\"Close\"].pct_change().head(1).index.item(),df_petr4[\"Close\"].pct_change().tail(1).index.item()]\n",
        "y_reg_rt = [regress(df_petr4[\"Close\"].pct_change().dropna())[0],regress(df_petr4[\"Close\"].pct_change().dropna())[-1]]\n",
        "\n",
        "sn.lineplot(data=df_petr4[\"Close\"].pct_change(),ax=ax[1,0],color=\"blue\")\n",
        "sn.lineplot(x=x_reg_rt, y=y_reg_rt,ax=ax[1,0],color=\"red\")\n",
        "sn.histplot(data=df_petr4[\"Close\"].pct_change(),bins=100,ax=ax[1,1],color=\"green\")\n",
        "sn.lineplot(data=df_petr4[\"Close\"].pct_change().rolling(15).var(),ax=ax[1,2],color=\"orange\")\n",
        "sn.lineplot(data=(df_ibov[\"Close\"].pct_change()-df_ibov[\"Close\"].pct_change().mean())/df_ibov[\"Close\"].pct_change().std(),ax=ax[1,3],lw=.5)\n",
        "sn.lineplot(data=(df_petr4[\"Close\"].pct_change()-df_petr4[\"Close\"].pct_change().mean())/df_petr4[\"Close\"].pct_change().std(),ax=ax[1,3],color=\"red\",lw=.5)\n",
        "sn.boxplot(data=df_petr4[\"Close\"].pct_change(),ax=ax[1,4],color=\"purple\")\n",
        "\n",
        "#df_petr4[\"Close\"].pct_change().plot(kind=\"box\",ax=ax[1,3])\n",
        "#sn.histplot(data=df_petr4[\"Close\"].pct_change().rolling(5).var(),bins=100,ax=ax[1,3],color=\"green\")\n"
      ],
      "execution_count": 154,
      "outputs": [
        {
          "output_type": "execute_result",
          "data": {
            "text/plain": [
              "<matplotlib.axes._subplots.AxesSubplot at 0x7f5616389b90>"
            ]
          },
          "metadata": {
            "tags": []
          },
          "execution_count": 154
        },
        {
          "output_type": "display_data",
          "data": {
            "image/png": "[encoded data removed]",
            "text/plain": [
              "<Figure size 1600x1200 with 10 Axes>"
            ]
          },
          "metadata": {
            "tags": []
          }
        }
      ]
    },
    {
      "cell_type": "code",
      "metadata": {
        "colab": {
          "base_uri": "https://localhost:8080/"
        },
        "id": "wBQHNuxsPQPz",
        "outputId": "1ab9d11b-0b81-4b37-ea23-49dc7208015d"
      },
      "source": [
        "df_ibov[\"Close\"].pct_change().describe()"
      ],
      "execution_count": 155,
      "outputs": [
        {
          "output_type": "execute_result",
          "data": {
            "text/plain": [
              "count    1353.000000\n",
              "mean        0.000900\n",
              "std         0.017359\n",
              "min        -0.147797\n",
              "25%        -0.007222\n",
              "50%         0.001110\n",
              "75%         0.009842\n",
              "max         0.139082\n",
              "Name: Close, dtype: float64"
            ]
          },
          "metadata": {
            "tags": []
          },
          "execution_count": 155
        }
      ]
    },
    {
      "cell_type": "code",
      "metadata": {
        "colab": {
          "base_uri": "https://localhost:8080/"
        },
        "id": "DT-eldIZPWYq",
        "outputId": "cf779c85-eb95-4870-9aa4-26f99ba1b606"
      },
      "source": [
        "df_petr4[\"Close\"].pct_change().describe()"
      ],
      "execution_count": 156,
      "outputs": [
        {
          "output_type": "execute_result",
          "data": {
            "text/plain": [
              "count    1359.000000\n",
              "mean        0.001539\n",
              "std         0.033059\n",
              "min        -0.296978\n",
              "25%        -0.013350\n",
              "50%         0.001276\n",
              "75%         0.016689\n",
              "max         0.222222\n",
              "Name: Close, dtype: float64"
            ]
          },
          "metadata": {
            "tags": []
          },
          "execution_count": 156
        }
      ]
    },
    {
      "cell_type": "code",
      "metadata": {
        "id": "atsKZg-EGyDG",
        "colab": {
          "base_uri": "https://localhost:8080/",
          "height": 454
        },
        "outputId": "d698f805-fb09-4324-8b1c-f646905f669c"
      },
      "source": [
        "df_petr4"
      ],
      "execution_count": 157,
      "outputs": [
        {
          "output_type": "execute_result",
          "data": {
            "text/html": [
              "<div>\n",
              "<style scoped>\n",
              "    .dataframe tbody tr th:only-of-type {\n",
              "        vertical-align: middle;\n",
              "    }\n",
              "\n",
              "    .dataframe tbody tr th {\n",
              "        vertical-align: top;\n",
              "    }\n",
              "\n",
              "    .dataframe thead th {\n",
              "        text-align: right;\n",
              "    }\n",
              "</style>\n",
              "<table border=\"1\" class=\"dataframe\">\n",
              "  <thead>\n",
              "    <tr style=\"text-align: right;\">\n",
              "      <th></th>\n",
              "      <th>Open</th>\n",
              "      <th>High</th>\n",
              "      <th>Low</th>\n",
              "      <th>Close</th>\n",
              "      <th>Volume</th>\n",
              "      <th>Dividends</th>\n",
              "      <th>Stock Splits</th>\n",
              "    </tr>\n",
              "    <tr>\n",
              "      <th>Date</th>\n",
              "      <th></th>\n",
              "      <th></th>\n",
              "      <th></th>\n",
              "      <th></th>\n",
              "      <th></th>\n",
              "      <th></th>\n",
              "      <th></th>\n",
              "    </tr>\n",
              "  </thead>\n",
              "  <tbody>\n",
              "    <tr>\n",
              "      <th>2015-11-30</th>\n",
              "      <td>6.767124</td>\n",
              "      <td>7.036373</td>\n",
              "      <td>6.659424</td>\n",
              "      <td>6.883799</td>\n",
              "      <td>72764300</td>\n",
              "      <td>0.0</td>\n",
              "      <td>0</td>\n",
              "    </tr>\n",
              "    <tr>\n",
              "      <th>2015-12-01</th>\n",
              "      <td>6.883799</td>\n",
              "      <td>6.964574</td>\n",
              "      <td>6.686350</td>\n",
              "      <td>6.722250</td>\n",
              "      <td>35865600</td>\n",
              "      <td>0.0</td>\n",
              "      <td>0</td>\n",
              "    </tr>\n",
              "    <tr>\n",
              "      <th>2015-12-02</th>\n",
              "      <td>6.767124</td>\n",
              "      <td>6.811999</td>\n",
              "      <td>6.596599</td>\n",
              "      <td>6.749174</td>\n",
              "      <td>47713500</td>\n",
              "      <td>0.0</td>\n",
              "      <td>0</td>\n",
              "    </tr>\n",
              "    <tr>\n",
              "      <th>2015-12-03</th>\n",
              "      <td>7.170996</td>\n",
              "      <td>7.332546</td>\n",
              "      <td>6.991497</td>\n",
              "      <td>7.162022</td>\n",
              "      <td>76680900</td>\n",
              "      <td>0.0</td>\n",
              "      <td>0</td>\n",
              "    </tr>\n",
              "    <tr>\n",
              "      <th>2015-12-04</th>\n",
              "      <td>7.153047</td>\n",
              "      <td>7.153047</td>\n",
              "      <td>6.659424</td>\n",
              "      <td>6.749174</td>\n",
              "      <td>63662600</td>\n",
              "      <td>0.0</td>\n",
              "      <td>0</td>\n",
              "    </tr>\n",
              "    <tr>\n",
              "      <th>...</th>\n",
              "      <td>...</td>\n",
              "      <td>...</td>\n",
              "      <td>...</td>\n",
              "      <td>...</td>\n",
              "      <td>...</td>\n",
              "      <td>...</td>\n",
              "      <td>...</td>\n",
              "    </tr>\n",
              "    <tr>\n",
              "      <th>2021-05-20</th>\n",
              "      <td>26.150000</td>\n",
              "      <td>26.280001</td>\n",
              "      <td>25.719999</td>\n",
              "      <td>25.930000</td>\n",
              "      <td>71371100</td>\n",
              "      <td>0.0</td>\n",
              "      <td>0</td>\n",
              "    </tr>\n",
              "    <tr>\n",
              "      <th>2021-05-21</th>\n",
              "      <td>26.080000</td>\n",
              "      <td>26.309999</td>\n",
              "      <td>25.940001</td>\n",
              "      <td>25.950001</td>\n",
              "      <td>82884500</td>\n",
              "      <td>0.0</td>\n",
              "      <td>0</td>\n",
              "    </tr>\n",
              "    <tr>\n",
              "      <th>2021-05-24</th>\n",
              "      <td>26.280001</td>\n",
              "      <td>26.520000</td>\n",
              "      <td>25.990000</td>\n",
              "      <td>26.389999</td>\n",
              "      <td>63029600</td>\n",
              "      <td>0.0</td>\n",
              "      <td>0</td>\n",
              "    </tr>\n",
              "    <tr>\n",
              "      <th>2021-05-25</th>\n",
              "      <td>26.480000</td>\n",
              "      <td>26.620001</td>\n",
              "      <td>25.780001</td>\n",
              "      <td>25.840000</td>\n",
              "      <td>63672000</td>\n",
              "      <td>0.0</td>\n",
              "      <td>0</td>\n",
              "    </tr>\n",
              "    <tr>\n",
              "      <th>2021-05-26</th>\n",
              "      <td>25.910000</td>\n",
              "      <td>26.180000</td>\n",
              "      <td>25.650000</td>\n",
              "      <td>26.090000</td>\n",
              "      <td>46646900</td>\n",
              "      <td>0.0</td>\n",
              "      <td>0</td>\n",
              "    </tr>\n",
              "  </tbody>\n",
              "</table>\n",
              "<p>1360 rows × 7 columns</p>\n",
              "</div>"
            ],
            "text/plain": [
              "                 Open       High        Low  ...    Volume  Dividends  Stock Splits\n",
              "Date                                         ...                                   \n",
              "2015-11-30   6.767124   7.036373   6.659424  ...  72764300        0.0             0\n",
              "2015-12-01   6.883799   6.964574   6.686350  ...  35865600        0.0             0\n",
              "2015-12-02   6.767124   6.811999   6.596599  ...  47713500        0.0             0\n",
              "2015-12-03   7.170996   7.332546   6.991497  ...  76680900        0.0             0\n",
              "2015-12-04   7.153047   7.153047   6.659424  ...  63662600        0.0             0\n",
              "...               ...        ...        ...  ...       ...        ...           ...\n",
              "2021-05-20  26.150000  26.280001  25.719999  ...  71371100        0.0             0\n",
              "2021-05-21  26.080000  26.309999  25.940001  ...  82884500        0.0             0\n",
              "2021-05-24  26.280001  26.520000  25.990000  ...  63029600        0.0             0\n",
              "2021-05-25  26.480000  26.620001  25.780001  ...  63672000        0.0             0\n",
              "2021-05-26  25.910000  26.180000  25.650000  ...  46646900        0.0             0\n",
              "\n",
              "[1360 rows x 7 columns]"
            ]
          },
          "metadata": {
            "tags": []
          },
          "execution_count": 157
        }
      ]
    },
    {
      "cell_type": "code",
      "metadata": {
        "id": "HIcU4HHrrTTz"
      },
      "source": [
        "#Calculo dos Indicadores\n",
        "def indicadores(stock_data):\n",
        "    \n",
        "    data = stock_data.copy()\n",
        "    data['W%R'] = ta.WILLR(data['High'], data['Low'], data['Close'], timeperiod=14) #Retorna valor do indicador Williams %R\n",
        "    data['MACD'], data['Signal-line'], data['Histograma_MACD'] = ta.MACD(data['Close'], fastperiod=12, slowperiod=26, signalperiod=9) #Valores do indicador MACD\n",
        "    data.loc[:, 'Momento_MACD']=np.where(data['Histograma_MACD']>0, 1, 0) #Retorna 1 para compra pelo MACD (momento positivo), 0 para venda\n",
        "    data['Tendencia_MACD']=np.where(data['Histograma_MACD'].diff()>0, 1, 0) #Derivada, sinaliza reversao de tendencia no histograma MACD, 1 para compra, 0 para venda\n",
        "    data.loc[:, 'W%R_Compra']= np.where(data['W%R']<-80, 1, 0) # Retorna 1 para sinal de compra, caso Williams %R < -80\n",
        "    data.loc[:, 'W%R_Venda']= np.where(data['W%R']>-20, 1, 0)  # Retorna 1 para sinal de venda, caso Williams %R > -20\n",
        "\n",
        "    return data.drop([\"Open\",\"Close\",\"High\",\"Low\",\"Volume\",\"Dividends\",\"Stock Splits\"],axis=\"columns\")"
      ],
      "execution_count": 158,
      "outputs": []
    },
    {
      "cell_type": "code",
      "metadata": {
        "id": "youCeQBgvWBG"
      },
      "source": [
        "def isSupport(df,i):\n",
        "    #Estamos utilizando dados futuros!\n",
        "    #support = df['Low'][i] <= df['Low'][i-1]  and df['Low'][i] <= df['Low'][i+1] and df['Low'][i] < df['Low'][i+2] and df['Low'][i] < df['Low'][i-2]\n",
        "    support = df['Low'][i-1] <= df['Low'][i-3]  and df['Low'][i-2] <= df['Low'][i-1] and df['Low'][i-2] < df['Low'][i] and df['Low'][i-2] < df['Low'][i-4]\n",
        "    \n",
        "    return support\n",
        "\n",
        "def isResistance(df,i):\n",
        "    #Estamos utilizando dados futuros!\n",
        "    #resistance = df['High'][i] > df['High'][i-1]  and df['High'][i] > df['High'][i+1] and df['High'][i] > df['High'][i+2] and df['High'][i] > df['High'][i-2]\n",
        "    resistance = df['High'][i-2] > df['High'][i-3]  and df['High'][i-2] > df['High'][i-1] and df['High'][i-2] > df['High'][i] and df['High'][i-2] > df['High'][i-4]\n",
        "    return resistance "
      ],
      "execution_count": 159,
      "outputs": []
    },
    {
      "cell_type": "code",
      "metadata": {
        "id": "xvrmKEtJyIfs"
      },
      "source": [
        "def isFarFromLevel(l,levels,s):\n",
        "\n",
        "   return np.sum([abs(l-x) < s  for x in levels]) == 0"
      ],
      "execution_count": 160,
      "outputs": []
    },
    {
      "cell_type": "code",
      "metadata": {
        "id": "m0OG4FDSvlKe"
      },
      "source": [
        "def sup_res(df_data):\n",
        "    s =  np.mean(df_data['High'] - df_data['Low'])\n",
        "    levels = []\n",
        "    support = [0,0]\n",
        "    resistance = [0,0]\n",
        "    for i in range(2,df_data.shape[0]-2):\n",
        "        if isSupport(df_data,i):\n",
        "            l = df_data['Low'][i]\n",
        "            support.append(1)\n",
        "            resistance.append(0)\n",
        "            levels.append((i,l))\n",
        "            #if isFarFromLevel(l,levels,s):\n",
        "                #support.append(1)\n",
        "                #resistance.append(0)\n",
        "                #levels.append((i,l))\n",
        "            #else:\n",
        "                #support.append(0)\n",
        "                #resistance.append(0)\n",
        "        elif isResistance(df_data,i):\n",
        "            l = df_data['High'][i]\n",
        "            support.append(0)\n",
        "            resistance.append(1)\n",
        "            #if isFarFromLevel(l,levels,s):\n",
        "                #resistance.append(1)\n",
        "                #support.append(0)\n",
        "                #levels.append((i,l))\n",
        "            #else:\n",
        "                #resistance.append(0)\n",
        "                #support.append(0)\n",
        "        else:\n",
        "            resistance.append(0)\n",
        "            support.append(0)\n",
        "    support.extend([0,0])\n",
        "    resistance.extend([0,0])\n",
        "\n",
        "    return support, resistance"
      ],
      "execution_count": 161,
      "outputs": []
    },
    {
      "cell_type": "code",
      "metadata": {
        "id": "HMVfe0as3x0p"
      },
      "source": [
        "def feat_gen(data_f, p_window,return_period):\n",
        "    \n",
        "    data_frame = data_f.copy()\n",
        "\n",
        "    #data_frame[\"Close_Return\"] = data_frame[\"Close\"].diff()\n",
        "    data_frame[\"Close_Return_Rel\"] = data_frame[\"Close\"].pct_change()\n",
        "    \n",
        "    #data_frame[\"Close_Return\"].fillna(0,inplace=True)\n",
        "    #data_frame[\"Close_Return_Rel\"].fillna(0,inplace=True)\n",
        "    tresh =  0\n",
        "    #data_frame.loc[data_frame[\"Close_Return_Rel\"].rolling(return_period).sum() > tresh, f\"Expected_Close_Return_{return_period}\"] = 3\n",
        "    #data_frame.loc[data_frame[\"Close_Return_Rel\"].rolling(return_period).sum() <= tresh, f\"Expected_Close_Return_{return_period}\"] = 2\n",
        "    #data_frame.loc[data_frame[\"Close_Return_Rel\"].rolling(return_period).sum() < -tresh, f\"Expected_Close_Return_{return_period}\"] = 1\n",
        "    data_frame.loc[data_frame[\"Close_Return_Rel\"].rolling(return_period).sum() >= tresh, f\"Expected_Close_Return\"] = 1\n",
        "    data_frame.loc[data_frame[\"Close_Return_Rel\"].rolling(return_period).sum() < tresh, f\"Expected_Close_Return\"] = 0\n",
        "   \n",
        "    new_col_names = []\n",
        " \n",
        "    for i in range(1,p_window+1):\n",
        "        data_frame[f'Return_Lag_{i}period'] = data_frame[\"Close_Return_Rel\"].shift(periods=i)\n",
        "   \n",
        "    data_frame[f\"Expected_Close_Return\"] = data_frame[f\"Expected_Close_Return\"].shift(-1)\n",
        "\n",
        "    return data_frame.drop([\"Open\",\"Close\",\"High\",\"Low\",\"Volume\",\"Dividends\",\"Stock Splits\"],axis=\"columns\")\n"
      ],
      "execution_count": 162,
      "outputs": []
    },
    {
      "cell_type": "code",
      "metadata": {
        "id": "rvDr60ZxuoxH"
      },
      "source": [
        "def calc_beta(data_frame_asset,data_frame_bench, beta_window):\n",
        "    data_frame_beta = pd.concat([data_frame_bench[\"Close\"].pct_change(), data_frame_asset[\"Close\"].pct_change()],axis=1,ignore_index=True)\n",
        "\n",
        "    data_frame_beta.columns=[\"Close_IBOV\",\"Close_PETR4\"]\n",
        "\n",
        "    data_frame_beta[\"Beta\"] = data_frame_beta[\"Close_PETR4\"].rolling(beta_window).cov(data_frame_beta[\"Close_IBOV\"].rolling(beta_window))/data_frame_beta[\"Close_IBOV\"].rolling(beta_window).var()\n",
        "\n",
        "    data_frame_beta[\"Beta_expected_PETR4\"] = data_frame_beta[\"Close_IBOV\"]*data_frame_beta[\"Beta\"]\n",
        "\n",
        "    data_frame_beta[\"PETR4_Excess_Variat\"] = (data_frame_beta[\"Close_PETR4\"] - data_frame_beta[\"Beta_expected_PETR4\"])/data_frame_beta[\"Beta_expected_PETR4\"]\n",
        "    data_frame_beta[\"PETR4_Excess_Variat\"].describe()\n",
        "    var_tolerance = 1#data_frame_beta[\"Close_IBOV\"].std()#/data_frame_beta[\"Close_IBOV\"].mean()\n",
        "\n",
        "    data_frame_beta.loc[data_frame_beta[\"PETR4_Excess_Variat\"]  > var_tolerance, \"PETR4_Excess_Variat_Disc_pos\"] = 1\n",
        "    data_frame_beta.loc[data_frame_beta[\"PETR4_Excess_Variat\"] <= var_tolerance , \"PETR4_Excess_Variat_Disc\"] = 0\n",
        "    \n",
        "    data_frame_beta.loc[data_frame_beta[\"PETR4_Excess_Variat\"]  < -var_tolerance, \"PETR4_Excess_Variat_Disc_neg\"] = 1\n",
        "\n",
        "    return data_frame_beta.drop([\"Close_IBOV\",\"Close_PETR4\",], axis=\"columns\").fillna(0)\n",
        "    data_frame_beta.info()\n",
        "    #return data_frame_beta[\"PETR4_Excess_Variat\"].fillna(0)"
      ],
      "execution_count": 163,
      "outputs": []
    },
    {
      "cell_type": "code",
      "metadata": {
        "id": "5X5JR0nMFT6C"
      },
      "source": [
        "def gen_feat_data(data_frame_orig,p_window,return_period,data_frame_bench,beta_window):\n",
        "\n",
        "    #df_feat = data_frame_orig\n",
        "    df_feat = pd.concat([data_frame_orig, feat_gen(data_frame_orig, p_window, return_period)],axis=1)\n",
        "    df_feat = pd.concat([df_feat,indicadores(data_frame_orig)],axis=1)\n",
        "    sup,res = sup_res(data_frame_orig)\n",
        "    df_feat[\"Support\"] = sup\n",
        "    df_feat[\"Resistance\"] = res\n",
        "    df_feat = pd.concat([df_feat,calc_beta(data_frame_orig,data_frame_bench,beta_window)],axis=1)\n",
        "    df_feat = df_feat.reindex(columns=(list([col for col in df_feat.columns if col != \"Expected_Close_Return\"]+[\"Expected_Close_Return\"])))\n",
        "    df_feat = df_feat.drop([\"Stock Splits\",\"Dividends\",\"Volume\"],axis=1)\n",
        "\n",
        "    return df_feat"
      ],
      "execution_count": 164,
      "outputs": []
    },
    {
      "cell_type": "code",
      "metadata": {
        "id": "gN5r8rthogpS"
      },
      "source": [
        "#df_petr4_ind.tail(5)"
      ],
      "execution_count": 165,
      "outputs": []
    },
    {
      "cell_type": "code",
      "metadata": {
        "id": "ikJentS7MMo_"
      },
      "source": [
        "#df_petr4_ind.columns"
      ],
      "execution_count": 166,
      "outputs": []
    },
    {
      "cell_type": "code",
      "metadata": {
        "id": "ZnI-LxbFTKcj"
      },
      "source": [
        "#fig,ax = plt.subplots(1,figsize=(20,20))\n",
        "#fig.patch.set_facecolor('xkcd:white')\n",
        "#ax = sn.heatmap(df_petr4_ind.corr(),linewidths=.5,annot=True,cmap=\"YlGnBu\",cbar=False,square=True)"
      ],
      "execution_count": 167,
      "outputs": []
    },
    {
      "cell_type": "code",
      "metadata": {
        "id": "qZUEd58fxFmo"
      },
      "source": [
        "#df_petr4_ind.desc#ibe()"
      ],
      "execution_count": 168,
      "outputs": []
    },
    {
      "cell_type": "code",
      "metadata": {
        "id": "6Bu7RwvTOUqp"
      },
      "source": [
        "#g = sn.PairGrid(df_petr4_ind)\n",
        "#g.map(sn.scatterplot)"
      ],
      "execution_count": 169,
      "outputs": []
    },
    {
      "cell_type": "code",
      "metadata": {
        "id": "hVh2b5G2MvMK"
      },
      "source": [
        "#((df_petr4_ind[\"Close_Return_Rel\"]-df_petr4_ind[\"Close_Return_Rel\"].mean())/df_petr4_ind[\"Close_Return_Rel\"].std()).describe()"
      ],
      "execution_count": 170,
      "outputs": []
    },
    {
      "cell_type": "code",
      "metadata": {
        "id": "fYAGf3KvSsiG"
      },
      "source": [
        "data_frame_orig = df_petr4\n",
        "p_window = 2\n",
        "return_period = 3\n",
        "beta_window = 30\n",
        "data_frame_bench = df_ibov\n",
        "df_petr4_ind = gen_feat_data(data_frame_orig,p_window,return_period,data_frame_bench,beta_window)\n",
        "df_petr4_ind = df_petr4_ind.drop(['Open', 'High', 'Low', 'Close', 'Close_Return_Rel','Return_Lag_1period', 'Return_Lag_2period', \n",
        "       'W%R', 'MACD','Signal-line', 'Histograma_MACD',  'Beta','Beta_expected_PETR4', 'PETR4_Excess_Variat'],axis=\"columns\")"
      ],
      "execution_count": 171,
      "outputs": []
    },
    {
      "cell_type": "code",
      "metadata": {
        "colab": {
          "base_uri": "https://localhost:8080/",
          "height": 1000
        },
        "id": "4ZCDzwYaT_m7",
        "outputId": "71eda303-6516-4200-9df7-28958a401d24"
      },
      "source": [
        "df_petr4_ind.head(30)"
      ],
      "execution_count": 172,
      "outputs": [
        {
          "output_type": "execute_result",
          "data": {
            "text/html": [
              "<div>\n",
              "<style scoped>\n",
              "    .dataframe tbody tr th:only-of-type {\n",
              "        vertical-align: middle;\n",
              "    }\n",
              "\n",
              "    .dataframe tbody tr th {\n",
              "        vertical-align: top;\n",
              "    }\n",
              "\n",
              "    .dataframe thead th {\n",
              "        text-align: right;\n",
              "    }\n",
              "</style>\n",
              "<table border=\"1\" class=\"dataframe\">\n",
              "  <thead>\n",
              "    <tr style=\"text-align: right;\">\n",
              "      <th></th>\n",
              "      <th>Momento_MACD</th>\n",
              "      <th>Tendencia_MACD</th>\n",
              "      <th>W%R_Compra</th>\n",
              "      <th>W%R_Venda</th>\n",
              "      <th>Support</th>\n",
              "      <th>Resistance</th>\n",
              "      <th>PETR4_Excess_Variat_Disc</th>\n",
              "      <th>Expected_Close_Return</th>\n",
              "    </tr>\n",
              "    <tr>\n",
              "      <th>Date</th>\n",
              "      <th></th>\n",
              "      <th></th>\n",
              "      <th></th>\n",
              "      <th></th>\n",
              "      <th></th>\n",
              "      <th></th>\n",
              "      <th></th>\n",
              "      <th></th>\n",
              "    </tr>\n",
              "  </thead>\n",
              "  <tbody>\n",
              "    <tr>\n",
              "      <th>2015-11-30</th>\n",
              "      <td>0</td>\n",
              "      <td>0</td>\n",
              "      <td>0</td>\n",
              "      <td>0</td>\n",
              "      <td>0</td>\n",
              "      <td>0</td>\n",
              "      <td>0.0</td>\n",
              "      <td>NaN</td>\n",
              "    </tr>\n",
              "    <tr>\n",
              "      <th>2015-12-01</th>\n",
              "      <td>0</td>\n",
              "      <td>0</td>\n",
              "      <td>0</td>\n",
              "      <td>0</td>\n",
              "      <td>0</td>\n",
              "      <td>0</td>\n",
              "      <td>0.0</td>\n",
              "      <td>NaN</td>\n",
              "    </tr>\n",
              "    <tr>\n",
              "      <th>2015-12-02</th>\n",
              "      <td>0</td>\n",
              "      <td>0</td>\n",
              "      <td>0</td>\n",
              "      <td>0</td>\n",
              "      <td>0</td>\n",
              "      <td>0</td>\n",
              "      <td>0.0</td>\n",
              "      <td>1.0</td>\n",
              "    </tr>\n",
              "    <tr>\n",
              "      <th>2015-12-03</th>\n",
              "      <td>0</td>\n",
              "      <td>0</td>\n",
              "      <td>0</td>\n",
              "      <td>0</td>\n",
              "      <td>0</td>\n",
              "      <td>0</td>\n",
              "      <td>0.0</td>\n",
              "      <td>1.0</td>\n",
              "    </tr>\n",
              "    <tr>\n",
              "      <th>2015-12-04</th>\n",
              "      <td>0</td>\n",
              "      <td>0</td>\n",
              "      <td>0</td>\n",
              "      <td>0</td>\n",
              "      <td>0</td>\n",
              "      <td>0</td>\n",
              "      <td>0.0</td>\n",
              "      <td>0.0</td>\n",
              "    </tr>\n",
              "    <tr>\n",
              "      <th>2015-12-07</th>\n",
              "      <td>0</td>\n",
              "      <td>0</td>\n",
              "      <td>0</td>\n",
              "      <td>0</td>\n",
              "      <td>0</td>\n",
              "      <td>1</td>\n",
              "      <td>0.0</td>\n",
              "      <td>0.0</td>\n",
              "    </tr>\n",
              "    <tr>\n",
              "      <th>2015-12-08</th>\n",
              "      <td>0</td>\n",
              "      <td>0</td>\n",
              "      <td>0</td>\n",
              "      <td>0</td>\n",
              "      <td>0</td>\n",
              "      <td>0</td>\n",
              "      <td>0.0</td>\n",
              "      <td>1.0</td>\n",
              "    </tr>\n",
              "    <tr>\n",
              "      <th>2015-12-09</th>\n",
              "      <td>0</td>\n",
              "      <td>0</td>\n",
              "      <td>0</td>\n",
              "      <td>0</td>\n",
              "      <td>0</td>\n",
              "      <td>0</td>\n",
              "      <td>0.0</td>\n",
              "      <td>1.0</td>\n",
              "    </tr>\n",
              "    <tr>\n",
              "      <th>2015-12-10</th>\n",
              "      <td>0</td>\n",
              "      <td>0</td>\n",
              "      <td>0</td>\n",
              "      <td>0</td>\n",
              "      <td>0</td>\n",
              "      <td>0</td>\n",
              "      <td>0.0</td>\n",
              "      <td>1.0</td>\n",
              "    </tr>\n",
              "    <tr>\n",
              "      <th>2015-12-11</th>\n",
              "      <td>0</td>\n",
              "      <td>0</td>\n",
              "      <td>0</td>\n",
              "      <td>0</td>\n",
              "      <td>0</td>\n",
              "      <td>1</td>\n",
              "      <td>0.0</td>\n",
              "      <td>0.0</td>\n",
              "    </tr>\n",
              "    <tr>\n",
              "      <th>2015-12-14</th>\n",
              "      <td>0</td>\n",
              "      <td>0</td>\n",
              "      <td>0</td>\n",
              "      <td>0</td>\n",
              "      <td>0</td>\n",
              "      <td>0</td>\n",
              "      <td>0.0</td>\n",
              "      <td>0.0</td>\n",
              "    </tr>\n",
              "    <tr>\n",
              "      <th>2015-12-15</th>\n",
              "      <td>0</td>\n",
              "      <td>0</td>\n",
              "      <td>0</td>\n",
              "      <td>0</td>\n",
              "      <td>0</td>\n",
              "      <td>0</td>\n",
              "      <td>0.0</td>\n",
              "      <td>1.0</td>\n",
              "    </tr>\n",
              "    <tr>\n",
              "      <th>2015-12-16</th>\n",
              "      <td>0</td>\n",
              "      <td>0</td>\n",
              "      <td>0</td>\n",
              "      <td>0</td>\n",
              "      <td>0</td>\n",
              "      <td>0</td>\n",
              "      <td>0.0</td>\n",
              "      <td>0.0</td>\n",
              "    </tr>\n",
              "    <tr>\n",
              "      <th>2015-12-17</th>\n",
              "      <td>0</td>\n",
              "      <td>0</td>\n",
              "      <td>0</td>\n",
              "      <td>0</td>\n",
              "      <td>0</td>\n",
              "      <td>0</td>\n",
              "      <td>0.0</td>\n",
              "      <td>0.0</td>\n",
              "    </tr>\n",
              "    <tr>\n",
              "      <th>2015-12-18</th>\n",
              "      <td>0</td>\n",
              "      <td>0</td>\n",
              "      <td>1</td>\n",
              "      <td>0</td>\n",
              "      <td>0</td>\n",
              "      <td>0</td>\n",
              "      <td>0.0</td>\n",
              "      <td>0.0</td>\n",
              "    </tr>\n",
              "    <tr>\n",
              "      <th>2015-12-21</th>\n",
              "      <td>0</td>\n",
              "      <td>0</td>\n",
              "      <td>1</td>\n",
              "      <td>0</td>\n",
              "      <td>0</td>\n",
              "      <td>1</td>\n",
              "      <td>0.0</td>\n",
              "      <td>0.0</td>\n",
              "    </tr>\n",
              "    <tr>\n",
              "      <th>2015-12-22</th>\n",
              "      <td>0</td>\n",
              "      <td>0</td>\n",
              "      <td>1</td>\n",
              "      <td>0</td>\n",
              "      <td>0</td>\n",
              "      <td>0</td>\n",
              "      <td>0.0</td>\n",
              "      <td>0.0</td>\n",
              "    </tr>\n",
              "    <tr>\n",
              "      <th>2015-12-23</th>\n",
              "      <td>0</td>\n",
              "      <td>0</td>\n",
              "      <td>0</td>\n",
              "      <td>0</td>\n",
              "      <td>1</td>\n",
              "      <td>0</td>\n",
              "      <td>0.0</td>\n",
              "      <td>1.0</td>\n",
              "    </tr>\n",
              "    <tr>\n",
              "      <th>2015-12-28</th>\n",
              "      <td>0</td>\n",
              "      <td>0</td>\n",
              "      <td>1</td>\n",
              "      <td>0</td>\n",
              "      <td>0</td>\n",
              "      <td>0</td>\n",
              "      <td>0.0</td>\n",
              "      <td>0.0</td>\n",
              "    </tr>\n",
              "    <tr>\n",
              "      <th>2015-12-29</th>\n",
              "      <td>0</td>\n",
              "      <td>0</td>\n",
              "      <td>1</td>\n",
              "      <td>0</td>\n",
              "      <td>0</td>\n",
              "      <td>0</td>\n",
              "      <td>0.0</td>\n",
              "      <td>0.0</td>\n",
              "    </tr>\n",
              "    <tr>\n",
              "      <th>2015-12-30</th>\n",
              "      <td>0</td>\n",
              "      <td>0</td>\n",
              "      <td>1</td>\n",
              "      <td>0</td>\n",
              "      <td>0</td>\n",
              "      <td>0</td>\n",
              "      <td>0.0</td>\n",
              "      <td>1.0</td>\n",
              "    </tr>\n",
              "    <tr>\n",
              "      <th>2016-01-04</th>\n",
              "      <td>0</td>\n",
              "      <td>0</td>\n",
              "      <td>0</td>\n",
              "      <td>0</td>\n",
              "      <td>0</td>\n",
              "      <td>0</td>\n",
              "      <td>0.0</td>\n",
              "      <td>0.0</td>\n",
              "    </tr>\n",
              "    <tr>\n",
              "      <th>2016-01-05</th>\n",
              "      <td>0</td>\n",
              "      <td>0</td>\n",
              "      <td>1</td>\n",
              "      <td>0</td>\n",
              "      <td>1</td>\n",
              "      <td>0</td>\n",
              "      <td>0.0</td>\n",
              "      <td>0.0</td>\n",
              "    </tr>\n",
              "    <tr>\n",
              "      <th>2016-01-06</th>\n",
              "      <td>0</td>\n",
              "      <td>0</td>\n",
              "      <td>1</td>\n",
              "      <td>0</td>\n",
              "      <td>0</td>\n",
              "      <td>1</td>\n",
              "      <td>0.0</td>\n",
              "      <td>0.0</td>\n",
              "    </tr>\n",
              "    <tr>\n",
              "      <th>2016-01-07</th>\n",
              "      <td>0</td>\n",
              "      <td>0</td>\n",
              "      <td>1</td>\n",
              "      <td>0</td>\n",
              "      <td>0</td>\n",
              "      <td>0</td>\n",
              "      <td>0.0</td>\n",
              "      <td>0.0</td>\n",
              "    </tr>\n",
              "    <tr>\n",
              "      <th>2016-01-08</th>\n",
              "      <td>0</td>\n",
              "      <td>0</td>\n",
              "      <td>1</td>\n",
              "      <td>0</td>\n",
              "      <td>0</td>\n",
              "      <td>0</td>\n",
              "      <td>0.0</td>\n",
              "      <td>0.0</td>\n",
              "    </tr>\n",
              "    <tr>\n",
              "      <th>2016-01-11</th>\n",
              "      <td>0</td>\n",
              "      <td>0</td>\n",
              "      <td>1</td>\n",
              "      <td>0</td>\n",
              "      <td>0</td>\n",
              "      <td>0</td>\n",
              "      <td>0.0</td>\n",
              "      <td>0.0</td>\n",
              "    </tr>\n",
              "    <tr>\n",
              "      <th>2016-01-12</th>\n",
              "      <td>0</td>\n",
              "      <td>0</td>\n",
              "      <td>1</td>\n",
              "      <td>0</td>\n",
              "      <td>0</td>\n",
              "      <td>0</td>\n",
              "      <td>0.0</td>\n",
              "      <td>0.0</td>\n",
              "    </tr>\n",
              "    <tr>\n",
              "      <th>2016-01-13</th>\n",
              "      <td>0</td>\n",
              "      <td>0</td>\n",
              "      <td>1</td>\n",
              "      <td>0</td>\n",
              "      <td>0</td>\n",
              "      <td>0</td>\n",
              "      <td>0.0</td>\n",
              "      <td>0.0</td>\n",
              "    </tr>\n",
              "    <tr>\n",
              "      <th>2016-01-14</th>\n",
              "      <td>0</td>\n",
              "      <td>0</td>\n",
              "      <td>0</td>\n",
              "      <td>0</td>\n",
              "      <td>0</td>\n",
              "      <td>0</td>\n",
              "      <td>0.0</td>\n",
              "      <td>0.0</td>\n",
              "    </tr>\n",
              "  </tbody>\n",
              "</table>\n",
              "</div>"
            ],
            "text/plain": [
              "            Momento_MACD  ...  Expected_Close_Return\n",
              "Date                      ...                       \n",
              "2015-11-30             0  ...                    NaN\n",
              "2015-12-01             0  ...                    NaN\n",
              "2015-12-02             0  ...                    1.0\n",
              "2015-12-03             0  ...                    1.0\n",
              "2015-12-04             0  ...                    0.0\n",
              "2015-12-07             0  ...                    0.0\n",
              "2015-12-08             0  ...                    1.0\n",
              "2015-12-09             0  ...                    1.0\n",
              "2015-12-10             0  ...                    1.0\n",
              "2015-12-11             0  ...                    0.0\n",
              "2015-12-14             0  ...                    0.0\n",
              "2015-12-15             0  ...                    1.0\n",
              "2015-12-16             0  ...                    0.0\n",
              "2015-12-17             0  ...                    0.0\n",
              "2015-12-18             0  ...                    0.0\n",
              "2015-12-21             0  ...                    0.0\n",
              "2015-12-22             0  ...                    0.0\n",
              "2015-12-23             0  ...                    1.0\n",
              "2015-12-28             0  ...                    0.0\n",
              "2015-12-29             0  ...                    0.0\n",
              "2015-12-30             0  ...                    1.0\n",
              "2016-01-04             0  ...                    0.0\n",
              "2016-01-05             0  ...                    0.0\n",
              "2016-01-06             0  ...                    0.0\n",
              "2016-01-07             0  ...                    0.0\n",
              "2016-01-08             0  ...                    0.0\n",
              "2016-01-11             0  ...                    0.0\n",
              "2016-01-12             0  ...                    0.0\n",
              "2016-01-13             0  ...                    0.0\n",
              "2016-01-14             0  ...                    0.0\n",
              "\n",
              "[30 rows x 8 columns]"
            ]
          },
          "metadata": {
            "tags": []
          },
          "execution_count": 172
        }
      ]
    },
    {
      "cell_type": "code",
      "metadata": {
        "id": "ZWsNCjTg57Tc"
      },
      "source": [
        "dia_ini_train_idx = df_petr4_ind.index.get_loc(\"2016-01-26 00:00:00\")\n",
        "dia_fin_train_idx = df_petr4_ind.index.get_loc(\"2018-01-26 00:00:00\")\n",
        "y_label_idx = df_petr4_ind.columns.get_loc(\"Expected_Close_Return\")"
      ],
      "execution_count": 173,
      "outputs": []
    },
    {
      "cell_type": "code",
      "metadata": {
        "id": "vy5BzMWy6y6G"
      },
      "source": [
        "X = df_petr4_ind.iloc[dia_ini_train_idx:dia_fin_train_idx-100].drop('Expected_Close_Return',axis='columns')\n",
        "X_test = df_petr4_ind.iloc[dia_fin_train_idx-100:dia_fin_train_idx].drop('Expected_Close_Return',axis='columns')\n",
        "y = df_petr4_ind.iloc[dia_ini_train_idx:dia_fin_train_idx-100,y_label_idx]\n",
        "y_test = df_petr4_ind.iloc[dia_fin_train_idx-100:dia_fin_train_idx,y_label_idx]"
      ],
      "execution_count": 174,
      "outputs": []
    },
    {
      "cell_type": "code",
      "metadata": {
        "id": "Bm4pfuzN-AKA"
      },
      "source": [
        "def run_model(X,y,X_test,y_test,model_type):\n",
        "\n",
        "    nb_model = model_type\n",
        "    nb_model.fit(X, y)\n",
        "\n",
        "    y_pred = nb_model.predict(X_test)\n",
        "    print(\"Number of mislabeled points out of a total %d points : %d\" % (X_test.shape[0], (y_test != y_pred).sum()))\n",
        "    print(\"Accuracy: %f\"% metrics.balanced_accuracy_score(y_test, y_pred))\n",
        "    #print(\"Precision: %d\"% metrics.precision_score(y_test,y_pred))\n",
        "    cf_train2 = metrics.confusion_matrix(y_test, y_pred, normalize=\"all\")                                  \n",
        "    sn.heatmap(cf_train2,linewidths=.5,annot=True,cmap=\"YlGnBu\",cbar=False,square=True,xticklabels=(1,2,3), yticklabels=(1,2,3))\n",
        "    \n",
        "    return nb_model"
      ],
      "execution_count": 175,
      "outputs": []
    },
    {
      "cell_type": "code",
      "metadata": {
        "colab": {
          "base_uri": "https://localhost:8080/",
          "height": 470
        },
        "id": "1NaFmNcr-Ftv",
        "outputId": "7dee83ac-1c5d-445e-de02-f446f8a11235"
      },
      "source": [
        "gnb = run_model(X,y,X_test,y_test,GaussianNB())"
      ],
      "execution_count": 176,
      "outputs": [
        {
          "output_type": "stream",
          "text": [
            "Number of mislabeled points out of a total 100 points : 29\n",
            "Accuracy: 0.673385\n"
          ],
          "name": "stdout"
        },
        {
          "output_type": "display_data",
          "data": {
            "image/png": "[encoded data removed]",
            "text/plain": [
              "<Figure size 640x480 with 1 Axes>"
            ]
          },
          "metadata": {
            "tags": []
          }
        }
      ]
    },
    {
      "cell_type": "code",
      "metadata": {
        "colab": {
          "base_uri": "https://localhost:8080/",
          "height": 470
        },
        "id": "Kt12MrXz-GgC",
        "outputId": "a403f13e-d6f6-40c2-e3d9-b4fcd9928052"
      },
      "source": [
        "bnb = run_model(X,y,X_test,y_test,BernoulliNB())"
      ],
      "execution_count": 177,
      "outputs": [
        {
          "output_type": "stream",
          "text": [
            "Number of mislabeled points out of a total 100 points : 29\n",
            "Accuracy: 0.673385\n"
          ],
          "name": "stdout"
        },
        {
          "output_type": "display_data",
          "data": {
            "image/png": "[encoded data removed]",
            "text/plain": [
              "<Figure size 640x480 with 1 Axes>"
            ]
          },
          "metadata": {
            "tags": []
          }
        }
      ]
    },
    {
      "cell_type": "code",
      "metadata": {
        "colab": {
          "base_uri": "https://localhost:8080/"
        },
        "id": "QxcG82d8CkoT",
        "outputId": "a641d883-27cd-41c4-fe3c-9741e758fadb"
      },
      "source": [
        "print(np.column_stack((y_test.to_list(),bnb.predict(X_test),)))\n",
        "print(bnb.predict_proba(X_test))\n",
        "print(bnb.score(X_test,y_test))"
      ],
      "execution_count": 178,
      "outputs": [
        {
          "output_type": "stream",
          "text": [
            "[[1. 1.]\n",
            " [0. 0.]\n",
            " [0. 1.]\n",
            " [1. 1.]\n",
            " [1. 1.]\n",
            " [1. 1.]\n",
            " [1. 1.]\n",
            " [1. 0.]\n",
            " [1. 1.]\n",
            " [1. 1.]\n",
            " [1. 1.]\n",
            " [0. 1.]\n",
            " [0. 1.]\n",
            " [0. 0.]\n",
            " [0. 0.]\n",
            " [0. 0.]\n",
            " [1. 1.]\n",
            " [1. 0.]\n",
            " [1. 1.]\n",
            " [1. 0.]\n",
            " [0. 1.]\n",
            " [1. 0.]\n",
            " [1. 0.]\n",
            " [1. 1.]\n",
            " [1. 1.]\n",
            " [0. 1.]\n",
            " [1. 1.]\n",
            " [1. 1.]\n",
            " [1. 0.]\n",
            " [1. 1.]\n",
            " [1. 1.]\n",
            " [1. 1.]\n",
            " [1. 0.]\n",
            " [1. 1.]\n",
            " [1. 1.]\n",
            " [1. 1.]\n",
            " [1. 1.]\n",
            " [1. 0.]\n",
            " [0. 0.]\n",
            " [1. 0.]\n",
            " [1. 0.]\n",
            " [1. 1.]\n",
            " [0. 1.]\n",
            " [1. 0.]\n",
            " [0. 0.]\n",
            " [1. 1.]\n",
            " [0. 0.]\n",
            " [0. 0.]\n",
            " [0. 0.]\n",
            " [0. 0.]\n",
            " [1. 1.]\n",
            " [1. 1.]\n",
            " [1. 1.]\n",
            " [1. 1.]\n",
            " [1. 1.]\n",
            " [1. 0.]\n",
            " [0. 1.]\n",
            " [0. 0.]\n",
            " [0. 0.]\n",
            " [0. 0.]\n",
            " [0. 0.]\n",
            " [1. 1.]\n",
            " [0. 1.]\n",
            " [0. 0.]\n",
            " [0. 1.]\n",
            " [1. 0.]\n",
            " [0. 1.]\n",
            " [1. 1.]\n",
            " [0. 1.]\n",
            " [0. 0.]\n",
            " [0. 0.]\n",
            " [1. 0.]\n",
            " [1. 1.]\n",
            " [1. 1.]\n",
            " [1. 0.]\n",
            " [1. 1.]\n",
            " [1. 1.]\n",
            " [1. 1.]\n",
            " [1. 1.]\n",
            " [1. 1.]\n",
            " [1. 1.]\n",
            " [1. 0.]\n",
            " [1. 1.]\n",
            " [1. 1.]\n",
            " [1. 1.]\n",
            " [1. 1.]\n",
            " [1. 1.]\n",
            " [0. 1.]\n",
            " [1. 1.]\n",
            " [1. 1.]\n",
            " [1. 1.]\n",
            " [1. 1.]\n",
            " [1. 1.]\n",
            " [1. 1.]\n",
            " [1. 1.]\n",
            " [1. 1.]\n",
            " [1. 0.]\n",
            " [1. 1.]\n",
            " [1. 1.]\n",
            " [1. 1.]]\n",
            "[[0.03840028 0.96159972]\n",
            " [0.62024557 0.37975443]\n",
            " [0.03840028 0.96159972]\n",
            " [0.23673094 0.76326906]\n",
            " [0.23673094 0.76326906]\n",
            " [0.23673094 0.76326906]\n",
            " [0.23673094 0.76326906]\n",
            " [0.5069413  0.4930587 ]\n",
            " [0.23673094 0.76326906]\n",
            " [0.03840028 0.96159972]\n",
            " [0.03840028 0.96159972]\n",
            " [0.23673094 0.76326906]\n",
            " [0.23673094 0.76326906]\n",
            " [0.62024557 0.37975443]\n",
            " [0.91579357 0.08420643]\n",
            " [0.76639504 0.23360496]\n",
            " [0.38565187 0.61434813]\n",
            " [0.76639504 0.23360496]\n",
            " [0.07425745 0.92574255]\n",
            " [0.76639504 0.23360496]\n",
            " [0.07425745 0.92574255]\n",
            " [0.76639504 0.23360496]\n",
            " [0.583382   0.416618  ]\n",
            " [0.01511629 0.98488371]\n",
            " [0.07425745 0.92574255]\n",
            " [0.38385656 0.61614344]\n",
            " [0.38385656 0.61614344]\n",
            " [0.38385656 0.61614344]\n",
            " [0.67376041 0.32623959]\n",
            " [0.38385656 0.61614344]\n",
            " [0.38385656 0.61614344]\n",
            " [0.38385656 0.61614344]\n",
            " [0.76639504 0.23360496]\n",
            " [0.07425745 0.92574255]\n",
            " [0.03840028 0.96159972]\n",
            " [0.03840028 0.96159972]\n",
            " [0.03840028 0.96159972]\n",
            " [0.62024557 0.37975443]\n",
            " [0.62024557 0.37975443]\n",
            " [0.8440984  0.1559016 ]\n",
            " [0.62024557 0.37975443]\n",
            " [0.23673094 0.76326906]\n",
            " [0.03840028 0.96159972]\n",
            " [0.76639504 0.23360496]\n",
            " [0.91579357 0.08420643]\n",
            " [0.38565187 0.61434813]\n",
            " [0.76639504 0.23360496]\n",
            " [0.76639504 0.23360496]\n",
            " [0.93747996 0.06252004]\n",
            " [0.93747996 0.06252004]\n",
            " [0.0747805  0.9252195 ]\n",
            " [0.29696739 0.70303261]\n",
            " [0.29696739 0.70303261]\n",
            " [0.29696739 0.70303261]\n",
            " [0.29696739 0.70303261]\n",
            " [0.583382   0.416618  ]\n",
            " [0.29696739 0.70303261]\n",
            " [0.76639504 0.23360496]\n",
            " [0.583382   0.416618  ]\n",
            " [0.93747996 0.06252004]\n",
            " [0.76639504 0.23360496]\n",
            " [0.29696739 0.70303261]\n",
            " [0.0747805  0.9252195 ]\n",
            " [0.76639504 0.23360496]\n",
            " [0.29696739 0.70303261]\n",
            " [0.98027916 0.01972084]\n",
            " [0.29696739 0.70303261]\n",
            " [0.29696739 0.70303261]\n",
            " [0.29696739 0.70303261]\n",
            " [0.93747996 0.06252004]\n",
            " [0.93747996 0.06252004]\n",
            " [0.98027916 0.01972084]\n",
            " [0.29696739 0.70303261]\n",
            " [0.29696739 0.70303261]\n",
            " [0.583382   0.416618  ]\n",
            " [0.03840028 0.96159972]\n",
            " [0.03840028 0.96159972]\n",
            " [0.03840028 0.96159972]\n",
            " [0.03840028 0.96159972]\n",
            " [0.03840028 0.96159972]\n",
            " [0.03840028 0.96159972]\n",
            " [0.5069413  0.4930587 ]\n",
            " [0.03840028 0.96159972]\n",
            " [0.03840028 0.96159972]\n",
            " [0.03840028 0.96159972]\n",
            " [0.23673094 0.76326906]\n",
            " [0.03840028 0.96159972]\n",
            " [0.23673094 0.76326906]\n",
            " [0.23673094 0.76326906]\n",
            " [0.03840028 0.96159972]\n",
            " [0.23673094 0.76326906]\n",
            " [0.23673094 0.76326906]\n",
            " [0.03840028 0.96159972]\n",
            " [0.03840028 0.96159972]\n",
            " [0.03840028 0.96159972]\n",
            " [0.23673094 0.76326906]\n",
            " [0.5069413  0.4930587 ]\n",
            " [0.23673094 0.76326906]\n",
            " [0.03840028 0.96159972]\n",
            " [0.03840028 0.96159972]]\n",
            "0.71\n"
          ],
          "name": "stdout"
        }
      ]
    },
    {
      "cell_type": "code",
      "metadata": {
        "id": "PiBCs9mL-Jb-",
        "colab": {
          "base_uri": "https://localhost:8080/",
          "height": 470
        },
        "outputId": "34e0e2d6-87a3-48f2-cf2e-6608789e7093"
      },
      "source": [
        "comnb = run_model(X,y,X_test,y_test,ComplementNB())"
      ],
      "execution_count": 179,
      "outputs": [
        {
          "output_type": "stream",
          "text": [
            "Number of mislabeled points out of a total 100 points : 30\n",
            "Accuracy: 0.635746\n"
          ],
          "name": "stdout"
        },
        {
          "output_type": "display_data",
          "data": {
            "image/png": "[encoded data removed]",
            "text/plain": [
              "<Figure size 640x480 with 1 Axes>"
            ]
          },
          "metadata": {
            "tags": []
          }
        }
      ]
    },
    {
      "cell_type": "code",
      "metadata": {
        "id": "GWYb0IzB-NNX",
        "colab": {
          "base_uri": "https://localhost:8080/",
          "height": 470
        },
        "outputId": "d3ac748b-4685-4f49-cbf0-5e69df349952"
      },
      "source": [
        "catnb = run_model(X,y,X_test,y_test,CategoricalNB())"
      ],
      "execution_count": 180,
      "outputs": [
        {
          "output_type": "stream",
          "text": [
            "Number of mislabeled points out of a total 100 points : 29\n",
            "Accuracy: 0.673385\n"
          ],
          "name": "stdout"
        },
        {
          "output_type": "display_data",
          "data": {
            "image/png": "[encoded data removed]",
            "text/plain": [
              "<Figure size 640x480 with 1 Axes>"
            ]
          },
          "metadata": {
            "tags": []
          }
        }
      ]
    }
  ]
}