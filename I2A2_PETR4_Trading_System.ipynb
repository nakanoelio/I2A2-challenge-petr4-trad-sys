{
  "nbformat": 4,
  "nbformat_minor": 0,
  "metadata": {
    "colab": {
      "name": "I2A2 - PETR4 - Trading System",
      "provenance": [],
      "collapsed_sections": [],
      "authorship_tag": "ABX9TyO/qA/Cd7MsNmX48qyV8MB2",
      "include_colab_link": true
    },
    "kernelspec": {
      "name": "python3",
      "display_name": "Python 3"
    },
    "language_info": {
      "name": "python"
    }
  },
  "cells": [
    {
      "cell_type": "markdown",
      "metadata": {
        "id": "view-in-github",
        "colab_type": "text"
      },
      "source": [
        "<a href=\"https://colab.research.google.com/github/nakanoelio/i2a2-challenge-petr4-trad-sys/blob/main/I2A2_PETR4_Trading_System.ipynb\" target=\"_parent\"><img src=\"https://colab.research.google.com/assets/colab-badge.svg\" alt=\"Open In Colab\"/></a>"
      ]
    },
    {
      "cell_type": "code",
      "metadata": {
        "colab": {
          "base_uri": "https://localhost:8080/"
        },
        "id": "orMBFR_yO5R7",
        "outputId": "8bb44252-f6c1-4be7-f69e-e8375e512c56"
      },
      "source": [
        "!pip install yfinance\n",
        "!pip install --upgrade mplfinance\n",
        " \n",
        "#Instalação da Biblioteca TA-lib\n",
        "url = 'https://launchpad.net/~mario-mariomedina/+archive/ubuntu/talib/+files'\n",
        "!wget $url/libta-lib0_0.4.0-oneiric1_amd64.deb -qO libta.deb\n",
        "!wget $url/ta-lib0-dev_0.4.0-oneiric1_amd64.deb -qO ta.deb\n",
        "!dpkg -i libta.deb ta.deb\n",
        "!pip install ta-lib\n",
        "!pip install pandas_ta"
      ],
      "execution_count": 2,
      "outputs": [
        {
          "output_type": "stream",
          "text": [
            "Requirement already satisfied: yfinance in /usr/local/lib/python3.7/dist-packages (0.1.59)\n",
            "Requirement already satisfied: requests>=2.20 in /usr/local/lib/python3.7/dist-packages (from yfinance) (2.23.0)\n",
            "Requirement already satisfied: multitasking>=0.0.7 in /usr/local/lib/python3.7/dist-packages (from yfinance) (0.0.9)\n",
            "Requirement already satisfied: numpy>=1.15 in /usr/local/lib/python3.7/dist-packages (from yfinance) (1.19.5)\n",
            "Requirement already satisfied: pandas>=0.24 in /usr/local/lib/python3.7/dist-packages (from yfinance) (1.1.5)\n",
            "Requirement already satisfied: lxml>=4.5.1 in /usr/local/lib/python3.7/dist-packages (from yfinance) (4.6.3)\n",
            "Requirement already satisfied: certifi>=2017.4.17 in /usr/local/lib/python3.7/dist-packages (from requests>=2.20->yfinance) (2020.12.5)\n",
            "Requirement already satisfied: chardet<4,>=3.0.2 in /usr/local/lib/python3.7/dist-packages (from requests>=2.20->yfinance) (3.0.4)\n",
            "Requirement already satisfied: idna<3,>=2.5 in /usr/local/lib/python3.7/dist-packages (from requests>=2.20->yfinance) (2.10)\n",
            "Requirement already satisfied: urllib3!=1.25.0,!=1.25.1,<1.26,>=1.21.1 in /usr/local/lib/python3.7/dist-packages (from requests>=2.20->yfinance) (1.24.3)\n",
            "Requirement already satisfied: pytz>=2017.2 in /usr/local/lib/python3.7/dist-packages (from pandas>=0.24->yfinance) (2018.9)\n",
            "Requirement already satisfied: python-dateutil>=2.7.3 in /usr/local/lib/python3.7/dist-packages (from pandas>=0.24->yfinance) (2.8.1)\n",
            "Requirement already satisfied: six>=1.5 in /usr/local/lib/python3.7/dist-packages (from python-dateutil>=2.7.3->pandas>=0.24->yfinance) (1.15.0)\n",
            "Requirement already up-to-date: mplfinance in /usr/local/lib/python3.7/dist-packages (0.12.7a17)\n",
            "Requirement already satisfied, skipping upgrade: matplotlib in /usr/local/lib/python3.7/dist-packages (from mplfinance) (3.2.2)\n",
            "Requirement already satisfied, skipping upgrade: pandas in /usr/local/lib/python3.7/dist-packages (from mplfinance) (1.1.5)\n",
            "Requirement already satisfied, skipping upgrade: kiwisolver>=1.0.1 in /usr/local/lib/python3.7/dist-packages (from matplotlib->mplfinance) (1.3.1)\n",
            "Requirement already satisfied, skipping upgrade: pyparsing!=2.0.4,!=2.1.2,!=2.1.6,>=2.0.1 in /usr/local/lib/python3.7/dist-packages (from matplotlib->mplfinance) (2.4.7)\n",
            "Requirement already satisfied, skipping upgrade: numpy>=1.11 in /usr/local/lib/python3.7/dist-packages (from matplotlib->mplfinance) (1.19.5)\n",
            "Requirement already satisfied, skipping upgrade: python-dateutil>=2.1 in /usr/local/lib/python3.7/dist-packages (from matplotlib->mplfinance) (2.8.1)\n",
            "Requirement already satisfied, skipping upgrade: cycler>=0.10 in /usr/local/lib/python3.7/dist-packages (from matplotlib->mplfinance) (0.10.0)\n",
            "Requirement already satisfied, skipping upgrade: pytz>=2017.2 in /usr/local/lib/python3.7/dist-packages (from pandas->mplfinance) (2018.9)\n",
            "Requirement already satisfied, skipping upgrade: six>=1.5 in /usr/local/lib/python3.7/dist-packages (from python-dateutil>=2.1->matplotlib->mplfinance) (1.15.0)\n",
            "(Reading database ... 160798 files and directories currently installed.)\n",
            "Preparing to unpack libta.deb ...\n",
            "Unpacking libta-lib0 (0.4.0-oneiric1) over (0.4.0-oneiric1) ...\n",
            "Preparing to unpack ta.deb ...\n",
            "Unpacking ta-lib0-dev (0.4.0-oneiric1) over (0.4.0-oneiric1) ...\n",
            "Setting up libta-lib0 (0.4.0-oneiric1) ...\n",
            "Setting up ta-lib0-dev (0.4.0-oneiric1) ...\n",
            "Processing triggers for man-db (2.8.3-2ubuntu0.1) ...\n",
            "Processing triggers for libc-bin (2.27-3ubuntu1.2) ...\n",
            "/sbin/ldconfig.real: /usr/local/lib/python3.7/dist-packages/ideep4py/lib/libmkldnn.so.0 is not a symbolic link\n",
            "\n",
            "Requirement already satisfied: ta-lib in /usr/local/lib/python3.7/dist-packages (0.4.20)\n",
            "Requirement already satisfied: numpy in /usr/local/lib/python3.7/dist-packages (from ta-lib) (1.19.5)\n",
            "Requirement already satisfied: pandas_ta in /usr/local/lib/python3.7/dist-packages (0.2.45b0)\n",
            "Requirement already satisfied: pandas in /usr/local/lib/python3.7/dist-packages (from pandas_ta) (1.1.5)\n",
            "Requirement already satisfied: python-dateutil>=2.7.3 in /usr/local/lib/python3.7/dist-packages (from pandas->pandas_ta) (2.8.1)\n",
            "Requirement already satisfied: numpy>=1.15.4 in /usr/local/lib/python3.7/dist-packages (from pandas->pandas_ta) (1.19.5)\n",
            "Requirement already satisfied: pytz>=2017.2 in /usr/local/lib/python3.7/dist-packages (from pandas->pandas_ta) (2018.9)\n",
            "Requirement already satisfied: six>=1.5 in /usr/local/lib/python3.7/dist-packages (from python-dateutil>=2.7.3->pandas->pandas_ta) (1.15.0)\n"
          ],
          "name": "stdout"
        }
      ]
    },
    {
      "cell_type": "code",
      "metadata": {
        "id": "i1o3j7QLPDix"
      },
      "source": [
        "import numpy as np\n",
        "import pandas as pd\n",
        "import scipy as sp\n",
        "import seaborn as sn\n",
        "import matplotlib.pyplot as plt\n",
        "\n",
        "import yfinance as yf\n",
        "\n",
        "import talib as ta\n",
        "import pandas_ta as pd_ta\n",
        "\n",
        "from sklearn import metrics\n",
        "from sklearn.linear_model import LinearRegression\n",
        "from sklearn.naive_bayes import GaussianNB, MultinomialNB, ComplementNB, BernoulliNB, CategoricalNB"
      ],
      "execution_count": 3,
      "outputs": []
    },
    {
      "cell_type": "code",
      "metadata": {
        "id": "hU8aVRrfPUf9"
      },
      "source": [
        "%matplotlib inline"
      ],
      "execution_count": 4,
      "outputs": []
    },
    {
      "cell_type": "code",
      "metadata": {
        "id": "0ssva7zuPVKm"
      },
      "source": [
        "stock_ticker = 'PETR4.SA'\n",
        "start_date = '2016-01-26'\n",
        "end_date = '2021-5-27'\n",
        "\n",
        "yf_petr4 = yf.Ticker(stock_ticker)\n",
        "df_petr4 = yf_petr4.history(start=start_date, end=end_date)\n",
        "\n",
        "stock_ticker = '^BVSP'\n",
        "yf_ibov = yf.Ticker(stock_ticker)\n",
        "df_ibov = yf_ibov.history(start=start_date, end=end_date)"
      ],
      "execution_count": 5,
      "outputs": []
    },
    {
      "cell_type": "code",
      "metadata": {
        "id": "sMd5xrNNPXZM"
      },
      "source": [
        "#Calculo dos Indicadores\n",
        "def indicadores(stock_data):\n",
        "    \n",
        "    data = stock_data.copy()\n",
        "    data['W%R'] = ta.WILLR(data['High'], data['Low'], data['Close'], timeperiod=14) #Retorna valor do indicador Williams %R\n",
        "    data['MACD'], data['Signal-line'], data['Histograma_MACD'] = ta.MACD(data['Close'], fastperiod=12, slowperiod=26, signalperiod=9) #Valores do indicador MACD\n",
        "    data.loc[:, 'Momento_MACD']=np.where(data['Histograma_MACD']>0, 1, 0) #Retorna 1 para compra pelo MACD (momento positivo), 0 para venda\n",
        "    data['Tendencia_MACD']=np.where(data['Histograma_MACD'].diff()>0, 1, 0) #Derivada, sinaliza reversao de tendencia no histograma MACD, 1 para compra, 0 para venda\n",
        "    data.loc[:, 'W%R_Compra']= np.where(data['W%R']<-80, 1, 0) # Retorna 1 para sinal de compra, caso Williams %R < -80\n",
        "    data.loc[:, 'W%R_Venda']= np.where(data['W%R']>-20, 1, 0)  # Retorna 1 para sinal de venda, caso Williams %R > -20\n",
        "\n",
        "    data['Hammer']=ta.CDLHAMMER(data['Open'],data['High'], data['Low'], data['Close'])/100 #Sinal de compra pra martelo\n",
        "    data['Shooting_star'] = ta.CDLSHOOTINGSTAR(data['Open'],data['High'], data['Low'], data['Close'])/-100 #Sinal de venda 'estrela cadente'\n",
        "    #não sei como usar o donchian no modelo\n",
        "    #data['DC_Lower'], data['DC_Medium'], data['DC_Higher'] = pd_ta.donchian(data[\"High\"], data[\"Low\"], lower_length=10, upper_length=15)\n",
        "    data[\"EMA12\"] =  ta.EMA(data[\"Close\"], timeperiod=12)\n",
        "    data[\"EMA26\"] =  ta.EMA(data[\"Close\"], timeperiod=26)\n",
        "    #return data.drop([\"Open\",\"Close\",\"High\",\"Low\",\"Volume\",\"Dividends\",\"Stock Splits\"],axis=\"columns\")\n",
        "    return data[[\"EMA12\",\"EMA26\",'Signal-line','Histograma_MACD',]]#,\"EMA12\",\"EMA26\",'W%R','MACD','Hammer','Shooting_star','Momento_MACD','Tendencia_MACD','W%R_Compra','W%R_Venda']]"
      ],
      "execution_count": 6,
      "outputs": []
    },
    {
      "cell_type": "code",
      "metadata": {
        "id": "tptFTgVLPZv_"
      },
      "source": [
        "def isSupport(df,i):\n",
        "    #Estamos utilizando dados futuros!\n",
        "    #support = df['Low'][i] <= df['Low'][i-1]  and df['Low'][i] <= df['Low'][i+1] and df['Low'][i] < df['Low'][i+2] and df['Low'][i] < df['Low'][i-2]\n",
        "    #support = df['Low'][i-1] <= df['Low'][i-3]  and df['Low'][i-2] <= df['Low'][i-1] and df['Low'][i-2] < df['Low'][i] and df['Low'][i-2] < df['Low'][i-4]\n",
        "    support = df['Low'][i] <= df['Low'][i-2]  and df['Low'][i-1] <= df['Low'][i-2] and np.abs(df['Low'][i]-df['Low'][i-1]) < np.abs(df['Low'][i-1]-df['Low'][i-2])\n",
        "    \n",
        "    return support\n",
        "\n",
        "def isResistance(df,i):\n",
        "    #Estamos utilizando dados futuros!\n",
        "    #resistance = df['High'][i] > df['High'][i-1]  and df['High'][i] > df['High'][i+1] and df['High'][i] > df['High'][i+2] and df['High'][i] > df['High'][i-2]\n",
        "    resistance = df['High'][i-2] > df['High'][i-3]  and df['High'][i-2] > df['High'][i-1] and df['High'][i-2] > df['High'][i] and df['High'][i-2] > df['High'][i-4]\n",
        "    resistance = df['High'][i] > df['High'][i-2]  and df['High'][i-1] > df['High'][i-2] and np.abs(df['High'][i]-df['High'][i-1]) < np.abs(df['High'][i-1]-df['High'][i-2])\n",
        "    \n",
        "    return resistance "
      ],
      "execution_count": 7,
      "outputs": []
    },
    {
      "cell_type": "code",
      "metadata": {
        "id": "Xm7EapYqPbfp"
      },
      "source": [
        "def sup_res(df_data):\n",
        "    s =  np.mean(df_data['High'] - df_data['Low'])\n",
        "    levels = []\n",
        "    support = [0,0]\n",
        "    resistance = [0,0]\n",
        "    for i in range(2,df_data.shape[0]-2):\n",
        "        if isSupport(df_data,i):\n",
        "            l = df_data['Low'][i]\n",
        "            support.append(1)\n",
        "            resistance.append(0)\n",
        "            levels.append((i,l))\n",
        "            #if isFarFromLevel(l,levels,s):\n",
        "                #support.append(1)\n",
        "                #resistance.append(0)\n",
        "                #levels.append((i,l))\n",
        "            #else:\n",
        "                #support.append(0)\n",
        "                #resistance.append(0)\n",
        "        elif isResistance(df_data,i):\n",
        "            l = df_data['High'][i]\n",
        "            support.append(0)\n",
        "            resistance.append(1)\n",
        "            #if isFarFromLevel(l,levels,s):\n",
        "                #resistance.append(1)\n",
        "                #support.append(0)\n",
        "                #levels.append((i,l))\n",
        "            #else:\n",
        "                #resistance.append(0)\n",
        "                #support.append(0)\n",
        "        else:\n",
        "            resistance.append(0)\n",
        "            support.append(0)\n",
        "    support.extend([0,0])\n",
        "    resistance.extend([0,0])\n",
        "\n",
        "    return support, resistance"
      ],
      "execution_count": 8,
      "outputs": []
    },
    {
      "cell_type": "code",
      "metadata": {
        "id": "ud40U96mPeRk"
      },
      "source": [
        "def feat_gen(data_f, p_window,return_period):\n",
        "    \n",
        "    data_frame = data_f.copy()\n",
        "\n",
        "    #data_frame[\"Close_Return\"] = data_frame[\"Close\"].diff()\n",
        "    data_frame[\"Close_Return_Rel\"] = data_frame[\"Close\"].pct_change()\n",
        "    \n",
        "    #data_frame[\"Close_Return\"].fillna(0,inplace=True)\n",
        "    #data_frame[\"Close_Return_Rel\"].fillna(0,inplace=True)\n",
        "    tresh = data_frame[\"Close_Return_Rel\"].std()*0.05*return_period\n",
        "    #tresh = 0\n",
        "    data_frame.loc[data_frame[\"Close_Return_Rel\"].rolling(return_period).sum() > tresh, \"Expected_Close_Return\"] = 1\n",
        "    data_frame.loc[data_frame[\"Close_Return_Rel\"].rolling(return_period).sum() < tresh, \"Expected_Close_Return\"] = 0\n",
        "    data_frame.loc[data_frame[\"Close_Return_Rel\"].rolling(return_period).sum() < -tresh, \"Expected_Close_Return\"] = -1\n",
        "    #data_frame.loc[data_frame[\"Close_Return_Rel\"].rolling(return_period).sum() >= tresh, f\"Expected_Close_Return\"] = 1\n",
        "    #data_frame.loc[data_frame[\"Close_Return_Rel\"].rolling(return_period).sum() < tresh, f\"Expected_Close_Return\"] = 0\n",
        "   \n",
        "    #new_col_names = []\n",
        " \n",
        "    for i in range(0,p_window):\n",
        "        \n",
        "        data_frame[f'Return_Lag_{i}period'] = data_frame[\"Close_Return_Rel\"].shift(periods=i)#.apply(lambda x: 1 if x >0 else 0)\n",
        "        #data_frame[f'Return_Lag_{i}period'] = data_frame[\"Close_Return_Rel\"].rolling(i+1).sum()\n",
        "    \n",
        "    data_frame[\"Expected_Close_Return\"] = data_frame[\"Expected_Close_Return\"].shift(-return_period)\n",
        "    \n",
        "\n",
        "    return data_frame.drop([\"Open\",\"Close\",\"High\",\"Low\",\"Volume\",\"Dividends\",\"Stock Splits\",\"Close_Return_Rel\"],axis=\"columns\").fillna(0)\n",
        "    #return data_frame[[\"Expected_Close_Return\"].fillna(0)"
      ],
      "execution_count": 9,
      "outputs": []
    },
    {
      "cell_type": "code",
      "metadata": {
        "id": "3VfrQtotPjsd"
      },
      "source": [
        "def calc_beta(data_frame_asset,data_frame_bench, beta_window):\n",
        "    data_frame_beta = pd.concat([data_frame_bench[\"Close\"].pct_change(), data_frame_asset[\"Close\"].pct_change()],axis=1,ignore_index=True)\n",
        "\n",
        "    data_frame_beta.columns=[\"Close_IBOV\",\"Close_PETR4\"]\n",
        "\n",
        "    data_frame_beta[\"Beta\"] = data_frame_beta[\"Close_PETR4\"].rolling(beta_window).cov(data_frame_beta[\"Close_IBOV\"].rolling(beta_window))/data_frame_beta[\"Close_IBOV\"].rolling(beta_window).var()\n",
        "\n",
        "    data_frame_beta[\"Beta_expected_PETR4\"] = data_frame_beta[\"Close_IBOV\"]*data_frame_beta[\"Beta\"]\n",
        "\n",
        "    data_frame_beta[\"PETR4_Excess_Variat\"] = (data_frame_beta[\"Close_PETR4\"] - data_frame_beta[\"Beta_expected_PETR4\"])#/data_frame_beta[\"Beta_expected_PETR4\"]\n",
        "    #data_frame_beta[\"PETR4_Excess_Variat\"].describe()\n",
        "    #var_tolerance = 1#data_frame_beta[\"Close_IBOV\"].std()#/data_frame_beta[\"Close_IBOV\"].mean()\n",
        "\n",
        "    #data_frame_beta.loc[data_frame_beta[\"PETR4_Excess_Variat\"]  > var_tolerance, \"PETR4_Excess_Variat_Disc\"] = 1\n",
        "    #data_frame_beta.loc[data_frame_beta[\"PETR4_Excess_Variat\"] <= var_tolerance , \"PETR4_Excess_Variat_Disc\"] = 0\n",
        "    #data_frame_beta.loc[data_frame_beta[\"PETR4_Excess_Variat\"]  < -var_tolerance, \"PETR4_Excess_Variat_Disc\"] = 1\n",
        "    \n",
        "\n",
        "    #return data_frame_beta.drop([\"Close_IBOV\",\"Close_PETR4\",], axis=\"columns\").fillna(0)\n",
        "    \n",
        "    #return data_frame_beta[\"PETR4_Excess_Variat_Disc\"].fillna(0)\n",
        "    return data_frame_beta[\"PETR4_Excess_Variat\"].fillna(0)"
      ],
      "execution_count": 10,
      "outputs": []
    },
    {
      "cell_type": "code",
      "metadata": {
        "id": "x4nyMhJuPkjx"
      },
      "source": [
        "def gen_feat_data(data_frame_orig,p_window,return_period,data_frame_bench,beta_window):\n",
        "\n",
        "    #df_feat = data_frame_orig\n",
        "    df_feat = pd.concat([data_frame_orig, feat_gen(data_frame_orig, p_window, return_period)],axis=1)\n",
        "    df_feat = pd.concat([df_feat,indicadores(data_frame_orig)],axis=1)\n",
        "    sup,res = sup_res(data_frame_orig)\n",
        "    df_feat[\"Support\"] = sup\n",
        "    df_feat[\"Resistance\"] = res\n",
        "    df_feat = pd.concat([df_feat,calc_beta(data_frame_orig,data_frame_bench,beta_window)],axis=1)\n",
        "    df_feat = df_feat.reindex(columns=(list([col for col in df_feat.columns if col != \"Expected_Close_Return\"]+[\"Expected_Close_Return\"])))\n",
        "    df_feat = df_feat.drop([\"Stock Splits\",\"Dividends\",\"Volume\",'Open','High','Close','Low'],axis=1)\n",
        "\n",
        "    return df_feat"
      ],
      "execution_count": 11,
      "outputs": []
    },
    {
      "cell_type": "code",
      "metadata": {
        "id": "2mscGFsXPpvB"
      },
      "source": [
        "def train_eval(df,train_init_date,train_end_date):#,test_end_date):\n",
        "   \n",
        "    dia_ini_train_idx = df.index.get_loc(train_init_date)\n",
        "    dia_fin_train_idx = df.index.get_loc(train_end_date)\n",
        "    #dia_fin_test_idx = df.index.get_loc(test_end_date)\n",
        "    y_label_idx = df.columns.get_loc(\"Expected_Close_Return\")\n",
        "    X_tr = df.iloc[dia_ini_train_idx:dia_fin_train_idx].drop('Expected_Close_Return',axis='columns')\n",
        "    X_ts = df.iloc[dia_fin_train_idx].drop('Expected_Close_Return')#,axis='columns')\n",
        "    #print(X_ts)\n",
        "    y_tr = df.iloc[dia_ini_train_idx:dia_fin_train_idx,y_label_idx]\n",
        "    y_ts = df.iloc[dia_fin_train_idx,y_label_idx]\n",
        "\n",
        "    return X_tr, X_ts, y_tr, y_ts"
      ],
      "execution_count": 12,
      "outputs": []
    },
    {
      "cell_type": "code",
      "metadata": {
        "id": "b4BxILDCPsak"
      },
      "source": [
        "def run_model(X,y,model_type):\n",
        "        \n",
        "    nb_model = model_type\n",
        "    nb_model.fit(X, y)\n",
        "\n",
        "    \n",
        "    \n",
        "    #np.column_stack((y_test.to_list(),nb_model.predict(X_test)))\n",
        "    #print(nb_model.predict_proba(X_test)[:10])\n",
        "    #print(f'test_score = {nb_model.score(X_test,y_test)}')\n",
        "\n",
        "    return nb_model\n",
        "\n",
        "def meas_acc(X,y,nb_model):\n",
        "    y_pred = nb_model.predict(X)\n",
        "    print(\"Number of mislabeled points out of a total %d points : %d\" % (X.shape[0], (y != y_pred).sum()))\n",
        "    print(\"Train Accuracy: %f\"% metrics.balanced_accuracy_score(y, y_pred))\n",
        "    cf_train2 = metrics.confusion_matrix(y, y_pred, normalize=\"all\")                                  \n",
        "    sn.heatmap(cf_train2,linewidths=.5,annot=True,cmap=\"YlGnBu\",cbar=False,square=True,xticklabels=(1,2,3), yticklabels=(1,2,3))"
      ],
      "execution_count": 13,
      "outputs": []
    },
    {
      "cell_type": "code",
      "metadata": {
        "id": "xBKpGhQZPt4E"
      },
      "source": [
        "data_frame_orig = df_petr4\n",
        "p_window = 2\n",
        "beta_window = 30\n",
        "data_frame_bench = df_ibov\n",
        "\n",
        "return_period = 1\n",
        "df_petr4_1 = gen_feat_data(data_frame_orig,p_window,return_period,data_frame_bench,beta_window).fillna(0)\n",
        "\n",
        "return_period = 2\n",
        "df_petr4_2 = gen_feat_data(data_frame_orig,p_window,return_period,data_frame_bench,beta_window).fillna(0)\n",
        "\n",
        "return_period = 5\n",
        "df_petr4_5 = gen_feat_data(data_frame_orig,p_window,return_period,data_frame_bench,beta_window).fillna(0)\n",
        "\n",
        "return_period = 10\n",
        "df_petr4_10 = gen_feat_data(data_frame_orig,p_window,return_period,data_frame_bench,beta_window).fillna(0)"
      ],
      "execution_count": 14,
      "outputs": []
    },
    {
      "cell_type": "code",
      "metadata": {
        "id": "zbEpmvpMGr1W",
        "colab": {
          "base_uri": "https://localhost:8080/",
          "height": 297
        },
        "outputId": "09e166bd-c400-43f3-b7cf-6816e0a9dc7a"
      },
      "source": [
        "df_petr4_10.describe()"
      ],
      "execution_count": 15,
      "outputs": [
        {
          "output_type": "execute_result",
          "data": {
            "text/html": [
              "<div>\n",
              "<style scoped>\n",
              "    .dataframe tbody tr th:only-of-type {\n",
              "        vertical-align: middle;\n",
              "    }\n",
              "\n",
              "    .dataframe tbody tr th {\n",
              "        vertical-align: top;\n",
              "    }\n",
              "\n",
              "    .dataframe thead th {\n",
              "        text-align: right;\n",
              "    }\n",
              "</style>\n",
              "<table border=\"1\" class=\"dataframe\">\n",
              "  <thead>\n",
              "    <tr style=\"text-align: right;\">\n",
              "      <th></th>\n",
              "      <th>Return_Lag_0period</th>\n",
              "      <th>Return_Lag_1period</th>\n",
              "      <th>EMA12</th>\n",
              "      <th>EMA26</th>\n",
              "      <th>Signal-line</th>\n",
              "      <th>Histograma_MACD</th>\n",
              "      <th>Support</th>\n",
              "      <th>Resistance</th>\n",
              "      <th>PETR4_Excess_Variat</th>\n",
              "      <th>Expected_Close_Return</th>\n",
              "    </tr>\n",
              "  </thead>\n",
              "  <tbody>\n",
              "    <tr>\n",
              "      <th>count</th>\n",
              "      <td>1324.000000</td>\n",
              "      <td>1324.000000</td>\n",
              "      <td>1324.000000</td>\n",
              "      <td>1324.000000</td>\n",
              "      <td>1324.000000</td>\n",
              "      <td>1324.000000</td>\n",
              "      <td>1324.000000</td>\n",
              "      <td>1324.000000</td>\n",
              "      <td>1324.000000</td>\n",
              "      <td>1324.000000</td>\n",
              "    </tr>\n",
              "    <tr>\n",
              "      <th>mean</th>\n",
              "      <td>0.002010</td>\n",
              "      <td>0.002003</td>\n",
              "      <td>18.282388</td>\n",
              "      <td>18.129487</td>\n",
              "      <td>0.104154</td>\n",
              "      <td>0.000188</td>\n",
              "      <td>0.207704</td>\n",
              "      <td>0.267372</td>\n",
              "      <td>0.000250</td>\n",
              "      <td>0.245468</td>\n",
              "    </tr>\n",
              "    <tr>\n",
              "      <th>std</th>\n",
              "      <td>0.032733</td>\n",
              "      <td>0.032732</td>\n",
              "      <td>6.462955</td>\n",
              "      <td>6.538497</td>\n",
              "      <td>0.643282</td>\n",
              "      <td>0.216598</td>\n",
              "      <td>0.405817</td>\n",
              "      <td>0.442755</td>\n",
              "      <td>0.017302</td>\n",
              "      <td>0.872535</td>\n",
              "    </tr>\n",
              "    <tr>\n",
              "      <th>min</th>\n",
              "      <td>-0.296978</td>\n",
              "      <td>-0.296978</td>\n",
              "      <td>0.000000</td>\n",
              "      <td>0.000000</td>\n",
              "      <td>-3.781528</td>\n",
              "      <td>-1.466519</td>\n",
              "      <td>0.000000</td>\n",
              "      <td>0.000000</td>\n",
              "      <td>-0.163614</td>\n",
              "      <td>-1.000000</td>\n",
              "    </tr>\n",
              "    <tr>\n",
              "      <th>25%</th>\n",
              "      <td>-0.012991</td>\n",
              "      <td>-0.012991</td>\n",
              "      <td>13.568745</td>\n",
              "      <td>13.466081</td>\n",
              "      <td>-0.114666</td>\n",
              "      <td>-0.080931</td>\n",
              "      <td>0.000000</td>\n",
              "      <td>0.000000</td>\n",
              "      <td>-0.008082</td>\n",
              "      <td>-1.000000</td>\n",
              "    </tr>\n",
              "    <tr>\n",
              "      <th>50%</th>\n",
              "      <td>0.001588</td>\n",
              "      <td>0.001506</td>\n",
              "      <td>18.524603</td>\n",
              "      <td>18.379483</td>\n",
              "      <td>0.143746</td>\n",
              "      <td>0.000000</td>\n",
              "      <td>0.000000</td>\n",
              "      <td>0.000000</td>\n",
              "      <td>0.000000</td>\n",
              "      <td>1.000000</td>\n",
              "    </tr>\n",
              "    <tr>\n",
              "      <th>75%</th>\n",
              "      <td>0.016942</td>\n",
              "      <td>0.016942</td>\n",
              "      <td>23.794241</td>\n",
              "      <td>23.698315</td>\n",
              "      <td>0.442754</td>\n",
              "      <td>0.102474</td>\n",
              "      <td>0.000000</td>\n",
              "      <td>1.000000</td>\n",
              "      <td>0.008402</td>\n",
              "      <td>1.000000</td>\n",
              "    </tr>\n",
              "    <tr>\n",
              "      <th>max</th>\n",
              "      <td>0.222222</td>\n",
              "      <td>0.222222</td>\n",
              "      <td>29.376745</td>\n",
              "      <td>29.069992</td>\n",
              "      <td>1.470279</td>\n",
              "      <td>0.933574</td>\n",
              "      <td>1.000000</td>\n",
              "      <td>1.000000</td>\n",
              "      <td>0.116777</td>\n",
              "      <td>1.000000</td>\n",
              "    </tr>\n",
              "  </tbody>\n",
              "</table>\n",
              "</div>"
            ],
            "text/plain": [
              "       Return_Lag_0period  ...  Expected_Close_Return\n",
              "count         1324.000000  ...            1324.000000\n",
              "mean             0.002010  ...               0.245468\n",
              "std              0.032733  ...               0.872535\n",
              "min             -0.296978  ...              -1.000000\n",
              "25%             -0.012991  ...              -1.000000\n",
              "50%              0.001588  ...               1.000000\n",
              "75%              0.016942  ...               1.000000\n",
              "max              0.222222  ...               1.000000\n",
              "\n",
              "[8 rows x 10 columns]"
            ]
          },
          "metadata": {
            "tags": []
          },
          "execution_count": 15
        }
      ]
    },
    {
      "cell_type": "code",
      "metadata": {
        "colab": {
          "base_uri": "https://localhost:8080/",
          "height": 299
        },
        "id": "EcPvrfH1EF5h",
        "outputId": "adb02f5c-2ca8-433a-bd9e-cc6a68db28a2"
      },
      "source": [
        "X,_,y,_ = train_eval(df_petr4_1,\"2017-10-26 00:00:00\",\"2018-01-26 00:00:00\")\n",
        "gnb1 = run_model(X,y, GaussianNB())\n",
        "meas_acc(X,y,gnb1)"
      ],
      "execution_count": 16,
      "outputs": [
        {
          "output_type": "stream",
          "text": [
            "Number of mislabeled points out of a total 65 points : 49\n",
            "Train Accuracy: 0.438095\n"
          ],
          "name": "stdout"
        },
        {
          "output_type": "display_data",
          "data": {
            "image/png": "[encoded data removed]",
            "text/plain": [
              "<Figure size 432x288 with 1 Axes>"
            ]
          },
          "metadata": {
            "tags": [],
            "needs_background": "light"
          }
        }
      ]
    },
    {
      "cell_type": "code",
      "metadata": {
        "colab": {
          "base_uri": "https://localhost:8080/",
          "height": 299
        },
        "id": "Mq79nRdOVidG",
        "outputId": "3ec006c2-600f-41b0-ca1b-d2c362c64c7b"
      },
      "source": [
        "X,_,y,_ = train_eval(df_petr4_2,\"2017-10-26 00:00:00\",\"2018-01-26 00:00:00\")\n",
        "gnb2 = run_model(X,y, GaussianNB())\n",
        "meas_acc(X,y,gnb2)"
      ],
      "execution_count": 17,
      "outputs": [
        {
          "output_type": "stream",
          "text": [
            "Number of mislabeled points out of a total 65 points : 25\n",
            "Train Accuracy: 0.590541\n"
          ],
          "name": "stdout"
        },
        {
          "output_type": "display_data",
          "data": {
            "image/png": "[encoded data removed]",
            "text/plain": [
              "<Figure size 432x288 with 1 Axes>"
            ]
          },
          "metadata": {
            "tags": [],
            "needs_background": "light"
          }
        }
      ]
    },
    {
      "cell_type": "code",
      "metadata": {
        "colab": {
          "base_uri": "https://localhost:8080/",
          "height": 299
        },
        "id": "CuH37a2fYOhq",
        "outputId": "a1c5b3b8-a5cf-4b38-9bc7-b08982ad11c8"
      },
      "source": [
        "X,_,y,_ = train_eval(df_petr4_5,\"2017-10-26 00:00:00\",\"2018-01-26 00:00:00\")\n",
        "gnb5 = run_model(X,y, GaussianNB())\n",
        "meas_acc(X,y,gnb5)"
      ],
      "execution_count": 18,
      "outputs": [
        {
          "output_type": "stream",
          "text": [
            "Number of mislabeled points out of a total 65 points : 14\n",
            "Train Accuracy: 0.649471\n"
          ],
          "name": "stdout"
        },
        {
          "output_type": "display_data",
          "data": {
            "image/png": "[encoded data removed]",
            "text/plain": [
              "<Figure size 432x288 with 1 Axes>"
            ]
          },
          "metadata": {
            "tags": [],
            "needs_background": "light"
          }
        }
      ]
    },
    {
      "cell_type": "code",
      "metadata": {
        "colab": {
          "base_uri": "https://localhost:8080/",
          "height": 299
        },
        "id": "_GlbdeQXYS0z",
        "outputId": "26077af9-709b-41f2-efb6-146fb2e0c34a"
      },
      "source": [
        "X,_,y,_ = train_eval(df_petr4_10,\"2017-10-26 00:00:00\",\"2018-01-26 00:00:00\")\n",
        "gnb10 = run_model(X,y, GaussianNB())\n",
        "meas_acc(X,y,gnb10)"
      ],
      "execution_count": 19,
      "outputs": [
        {
          "output_type": "stream",
          "text": [
            "Number of mislabeled points out of a total 65 points : 15\n",
            "Train Accuracy: 0.651614\n"
          ],
          "name": "stdout"
        },
        {
          "output_type": "display_data",
          "data": {
            "image/png": "[encoded data removed]",
            "text/plain": [
              "<Figure size 432x288 with 1 Axes>"
            ]
          },
          "metadata": {
            "tags": [],
            "needs_background": "light"
          }
        }
      ]
    },
    {
      "cell_type": "code",
      "metadata": {
        "id": "8RGvAyzUVdJh"
      },
      "source": [
        "def rolling_results(df,dia_ini_train_idx,dia_ini_test_idx,model):\n",
        "    results = []\n",
        "    for i in df.iloc[dia_ini_train_idx:dia_ini_test_idx].index:\n",
        "        X,X_test,y,y_test = train_eval(df,\"2016-01-26 00:00:00\",i)\n",
        "        nb_model = run_model(X,y,model)\n",
        "        y_predict = nb_model.predict(X_test.to_numpy().reshape(1, -1)).item()\n",
        "        y_prob = nb_model.predict_proba(X_test.to_numpy().reshape(1, -1))\n",
        "        results.append([i,y_test,y_predict]+list(y_prob[0]))\n",
        "        \n",
        "    return results, nb_model"
      ],
      "execution_count": 20,
      "outputs": []
    },
    {
      "cell_type": "code",
      "metadata": {
        "id": "Q6hWsgTzIimY"
      },
      "source": [
        "dia_ini_train_idx = df_petr4_1.index.get_loc(\"2017-10-26 00:00:00\")\n",
        "dia_ini_test_idx = df_petr4_1.index.get_loc(\"2018-01-26 00:00:00\")\n"
      ],
      "execution_count": 21,
      "outputs": []
    },
    {
      "cell_type": "code",
      "metadata": {
        "colab": {
          "base_uri": "https://localhost:8080/"
        },
        "id": "s7TDLLKzG9gA",
        "outputId": "411164d3-01a3-4de8-e23f-7296904c0d3b"
      },
      "source": [
        "res1,_ = rolling_results(df_petr4_1,dia_ini_train_idx,dia_ini_test_idx,GaussianNB())\n",
        "res2,_ = rolling_results(df_petr4_2,dia_ini_train_idx,dia_ini_test_idx,GaussianNB())\n",
        "res5,_ = rolling_results(df_petr4_5,dia_ini_train_idx,dia_ini_test_idx,GaussianNB())\n",
        "res10,_ = rolling_results(df_petr4_10,dia_ini_train_idx,dia_ini_test_idx,GaussianNB())\n",
        "print(res1)\n",
        "print(res2)\n",
        "print(res5)\n",
        "print(res10)"
      ],
      "execution_count": 22,
      "outputs": [
        {
          "output_type": "stream",
          "text": [
            "[[Timestamp('2017-10-26 00:00:00'), 1.0, 0.0, 0.17223927684172255, 0.5782228568886457, 0.24953786626963148], [Timestamp('2017-10-27 00:00:00'), -1.0, 0.0, 0.20559773718642788, 0.5572682609285594, 0.23713400188501255], [Timestamp('2017-10-30 00:00:00'), 0.0, 0.0, 0.1879590710022893, 0.4873090815066254, 0.324731847491085], [Timestamp('2017-10-31 00:00:00'), 1.0, 0.0, 0.1998461215301582, 0.5806515281047055, 0.21950235036513607], [Timestamp('2017-11-01 00:00:00'), 0.0, 0.0, 0.2001717573510286, 0.5725767009942914, 0.22725154165468012], [Timestamp('2017-11-02 00:00:00'), 1.0, 0.0, 0.18196027832560846, 0.5984999791807362, 0.21953974249365527], [Timestamp('2017-11-03 00:00:00'), 1.0, 0.0, 0.18392225402740517, 0.5967590335953439, 0.21931871237725134], [Timestamp('2017-11-06 00:00:00'), -1.0, 0.0, 0.2397662107150572, 0.47414763273796195, 0.286086156546981], [Timestamp('2017-11-07 00:00:00'), 1.0, 1.0, 0.18670130058123163, 0.1446502695665251, 0.6686484298522433], [Timestamp('2017-11-08 00:00:00'), -1.0, -1.0, 0.6270606946717239, 0.1977024329122875, 0.17523687241598873], [Timestamp('2017-11-09 00:00:00'), 0.0, 0.0, 0.24298112126198093, 0.4123311768555328, 0.3446877018824862], [Timestamp('2017-11-10 00:00:00'), -1.0, 0.0, 0.20454715455886927, 0.5699795191363679, 0.225473326304763], [Timestamp('2017-11-13 00:00:00'), -1.0, 0.0, 0.3202506676486078, 0.549696383046637, 0.13005294930475492], [Timestamp('2017-11-14 00:00:00'), 0.0, 1.0, 0.13527381530136862, 0.03802512585138125, 0.8267010588472502], [Timestamp('2017-11-15 00:00:00'), 1.0, -1.0, 0.7681023288384046, 0.06261473448117583, 0.16928293668041955], [Timestamp('2017-11-16 00:00:00'), 1.0, 0.0, 0.2262460141136909, 0.5043662266144454, 0.26938775927186376], [Timestamp('2017-11-17 00:00:00'), 0.0, 0.0, 0.20810547859998318, 0.46341728574375446, 0.32847723565626225], [Timestamp('2017-11-20 00:00:00'), -1.0, 0.0, 0.161838977779065, 0.6313353200884698, 0.20682570213246523], [Timestamp('2017-11-21 00:00:00'), 1.0, 0.0, 0.15411465899837612, 0.6555371961036079, 0.19034814489801608], [Timestamp('2017-11-22 00:00:00'), 1.0, 0.0, 0.32247316662855885, 0.5585810850917559, 0.11894574827968518], [Timestamp('2017-11-23 00:00:00'), -1.0, 0.0, 0.17209297289461553, 0.6296091145778429, 0.19829791252754173], [Timestamp('2017-11-24 00:00:00'), -1.0, 0.0, 0.15968408681969692, 0.6529173746763853, 0.1873985385039176], [Timestamp('2017-11-27 00:00:00'), -1.0, 0.0, 0.1597283127648008, 0.6478500877129292, 0.19242159952226984], [Timestamp('2017-11-28 00:00:00'), -1.0, 0.0, 0.313542158628581, 0.566191470831418, 0.12026637054000086], [Timestamp('2017-11-29 00:00:00'), 1.0, 0.0, 0.15579232506949023, 0.6044458001880064, 0.23976187474250343], [Timestamp('2017-11-30 00:00:00'), 1.0, 0.0, 0.4068330041301603, 0.46222120967699326, 0.13094578619284644], [Timestamp('2017-12-01 00:00:00'), -1.0, 0.0, 0.32080148524387564, 0.556765033646638, 0.12243348110948624], [Timestamp('2017-12-04 00:00:00'), -1.0, 0.0, 0.12843129621750124, 0.6859922184956877, 0.18557648528681114], [Timestamp('2017-12-05 00:00:00'), 1.0, 0.0, 0.12859544753842592, 0.7025766610128279, 0.16882789144874621], [Timestamp('2017-12-06 00:00:00'), -1.0, 0.0, 0.33857223909913337, 0.5483996303238199, 0.1130281305770469], [Timestamp('2017-12-07 00:00:00'), 1.0, 0.0, 0.30195214858466723, 0.5676360048294593, 0.13041184658587351], [Timestamp('2017-12-08 00:00:00'), 1.0, 0.0, 0.19082917440037495, 0.6434617105039361, 0.16570911509568875], [Timestamp('2017-12-11 00:00:00'), 1.0, 0.0, 0.12853484149083194, 0.7100780640465331, 0.16138709446263505], [Timestamp('2017-12-12 00:00:00'), -1.0, 0.0, 0.16805803514933626, 0.66893726234395, 0.16300470250671417], [Timestamp('2017-12-13 00:00:00'), -1.0, 0.0, 0.2831489719932086, 0.5806271530833832, 0.13622387492340846], [Timestamp('2017-12-14 00:00:00'), -1.0, 0.0, 0.18289904158324172, 0.6373119938383395, 0.17978896457841842], [Timestamp('2017-12-15 00:00:00'), 1.0, 0.0, 0.3229331113154575, 0.5670400469758816, 0.11002684170866124], [Timestamp('2017-12-18 00:00:00'), -1.0, 0.0, 0.19495699016066562, 0.6388903266609207, 0.1661526831784136], [Timestamp('2017-12-19 00:00:00'), 1.0, 0.0, 0.1358674181197727, 0.6836148574369645, 0.18051772444326294], [Timestamp('2017-12-20 00:00:00'), 1.0, 0.0, 0.17963381910757148, 0.6627737716183815, 0.15759240927404736], [Timestamp('2017-12-21 00:00:00'), -1.0, 0.0, 0.23669605406263214, 0.5172534091412099, 0.24605053679615788], [Timestamp('2017-12-22 00:00:00'), 0.0, 0.0, 0.17963068421869743, 0.5285480073402619, 0.2918213084410409], [Timestamp('2017-12-25 00:00:00'), 1.0, 0.0, 0.1579785173313862, 0.6753820612857442, 0.16663942138286938], [Timestamp('2017-12-26 00:00:00'), 1.0, 0.0, 0.16693549001192978, 0.6514097471290218, 0.18165476285904814], [Timestamp('2017-12-27 00:00:00'), 1.0, 0.0, 0.10725622204902799, 0.7093973971477937, 0.1833463808031785], [Timestamp('2017-12-28 00:00:00'), 0.0, 0.0, 0.10110020191094048, 0.7150774239988711, 0.1838223740901887], [Timestamp('2017-12-29 00:00:00'), 1.0, 0.0, 0.13576555515719374, 0.6820883901594995, 0.18214605468330694], [Timestamp('2018-01-02 00:00:00'), 1.0, 0.0, 0.1729785826004388, 0.5918329025325914, 0.23518851486697004], [Timestamp('2018-01-03 00:00:00'), 1.0, 0.0, 0.10802894989937181, 0.6577328121194673, 0.23423823798116072], [Timestamp('2018-01-04 00:00:00'), 1.0, 0.0, 0.13419752218682257, 0.6393722489219156, 0.2264302288912622], [Timestamp('2018-01-05 00:00:00'), 1.0, 0.0, 0.09043654158969316, 0.7007823776696959, 0.20878108074061116], [Timestamp('2018-01-08 00:00:00'), 0.0, 0.0, 0.15019462993133983, 0.5929394413212231, 0.2568659287474371], [Timestamp('2018-01-09 00:00:00'), -1.0, 0.0, 0.08609345367773462, 0.6962740148212935, 0.21763253150097198], [Timestamp('2018-01-10 00:00:00'), 1.0, 0.0, 0.09329200097733531, 0.684922628695381, 0.22178537032728382], [Timestamp('2018-01-11 00:00:00'), 1.0, -1.0, 0.404064591387233, 0.3968057376673539, 0.19912967094541317], [Timestamp('2018-01-12 00:00:00'), 1.0, 0.0, 0.1288638562409655, 0.5898293163354477, 0.28130682742358676], [Timestamp('2018-01-15 00:00:00'), 1.0, 0.0, 0.11633130313874081, 0.6365658865724324, 0.24710281028882666], [Timestamp('2018-01-16 00:00:00'), 1.0, 0.0, 0.19620066912303855, 0.515708966282565, 0.2880903645943964], [Timestamp('2018-01-17 00:00:00'), -1.0, 1.0, 0.23762526882212193, 0.32445330648817355, 0.43792142468970435], [Timestamp('2018-01-18 00:00:00'), 1.0, 1.0, 0.16873273693467844, 0.3700744042446849, 0.4611928588206366], [Timestamp('2018-01-19 00:00:00'), 1.0, 0.0, 0.15180975729684126, 0.48856574091728566, 0.35962450178587313], [Timestamp('2018-01-22 00:00:00'), -1.0, 1.0, 0.23870006027102192, 0.3797819555552933, 0.3815179841736848], [Timestamp('2018-01-23 00:00:00'), 1.0, 1.0, 0.16935026426695832, 0.40301694160152624, 0.4276327941315154], [Timestamp('2018-01-24 00:00:00'), 0.0, 1.0, 0.3239425736378714, 0.08879425709376945, 0.5872631692683591], [Timestamp('2018-01-25 00:00:00'), 1.0, 1.0, 0.25547404946882546, 0.10289213125245716, 0.6416338192787174]]\n",
            "[[Timestamp('2017-10-26 00:00:00'), 0.0, 0.0, 0.17745288530847814, 0.6021187072491735, 0.22042840744234843], [Timestamp('2017-10-27 00:00:00'), -1.0, 0.0, 0.22543353527333126, 0.5813905439152032, 0.19317592081146504], [Timestamp('2017-10-30 00:00:00'), 1.0, 0.0, 0.1522516402069896, 0.6380669463389167, 0.2096814134540938], [Timestamp('2017-10-31 00:00:00'), 1.0, 0.0, 0.2584211205829137, 0.5222669285338836, 0.21931195088320313], [Timestamp('2017-11-01 00:00:00'), 0.0, 0.0, 0.23052403682256503, 0.5680576561525509, 0.201418307024884], [Timestamp('2017-11-02 00:00:00'), 1.0, 0.0, 0.20141310727177694, 0.6111832145619025, 0.18740367816632042], [Timestamp('2017-11-03 00:00:00'), -1.0, 0.0, 0.21452565202211724, 0.5873110498968026, 0.1981632980810803], [Timestamp('2017-11-06 00:00:00'), -1.0, 0.0, 0.24200454272358385, 0.5522680504810924, 0.20572740679532384], [Timestamp('2017-11-07 00:00:00'), 1.0, 1.0, 0.18704213477182807, 0.3198499999450932, 0.4931078652830788], [Timestamp('2017-11-08 00:00:00'), -1.0, -1.0, 0.586403922850823, 0.003083471721578248, 0.41051260542759865], [Timestamp('2017-11-09 00:00:00'), -1.0, 0.0, 0.2635301481578307, 0.4495940387885748, 0.28687581305359455], [Timestamp('2017-11-10 00:00:00'), -1.0, 0.0, 0.3431972974374443, 0.3793063896906847, 0.27749631287187065], [Timestamp('2017-11-13 00:00:00'), -1.0, -1.0, 0.5522442846225288, 0.01222781446427373, 0.4355279009131972], [Timestamp('2017-11-14 00:00:00'), 1.0, 1.0, 0.23234444883413655, 0.016525955404680714, 0.7511295957611828], [Timestamp('2017-11-15 00:00:00'), 1.0, -1.0, 0.5792313450495291, 3.085400973882059e-05, 0.42073780094073226], [Timestamp('2017-11-16 00:00:00'), 1.0, -1.0, 0.49892478072697743, 0.03540986514066746, 0.46566535413235505], [Timestamp('2017-11-17 00:00:00'), -1.0, 1.0, 0.36030561057970767, 0.08323871863782704, 0.5564556707824654], [Timestamp('2017-11-20 00:00:00'), 1.0, -1.0, 0.4368676467814019, 0.126389707426313, 0.4367426457922853], [Timestamp('2017-11-21 00:00:00'), 1.0, 1.0, 0.41934321562585924, 0.14585718755785987, 0.43479959681628083], [Timestamp('2017-11-22 00:00:00'), 0.0, -1.0, 0.5497630466309917, 0.00467431011354752, 0.4455626432554606], [Timestamp('2017-11-23 00:00:00'), -1.0, -1.0, 0.3406912163725626, 0.3247209160298442, 0.3345878675975936], [Timestamp('2017-11-24 00:00:00'), -1.0, 0.0, 0.3263560497809165, 0.35458543654694086, 0.3190585136721426], [Timestamp('2017-11-27 00:00:00'), -1.0, -1.0, 0.3470465054643755, 0.308020868918868, 0.34493262561675636], [Timestamp('2017-11-28 00:00:00'), -1.0, -1.0, 0.5472098036369462, 0.024754120062583, 0.4280360763004709], [Timestamp('2017-11-29 00:00:00'), 1.0, 1.0, 0.3626489178847092, 0.19173464378081792, 0.4456164383344725], [Timestamp('2017-11-30 00:00:00'), 1.0, -1.0, 0.5796807470930242, 0.008480818947380538, 0.4118384339595952], [Timestamp('2017-12-01 00:00:00'), -1.0, -1.0, 0.5554670825446119, 0.020245793427680327, 0.4242871240277079], [Timestamp('2017-12-04 00:00:00'), 0.0, 1.0, 0.2889154912294183, 0.31490850810769544, 0.39617600066288644], [Timestamp('2017-12-05 00:00:00'), 0.0, 1.0, 0.29821664659396646, 0.31260417855018424, 0.3891791748558493], [Timestamp('2017-12-06 00:00:00'), -1.0, -1.0, 0.5864287047828742, 0.02016993553448728, 0.3934013596826384], [Timestamp('2017-12-07 00:00:00'), 1.0, -1.0, 0.5319822253267403, 0.02323976952514732, 0.4447780051481124], [Timestamp('2017-12-08 00:00:00'), 1.0, -1.0, 0.3987816338243968, 0.29243777595488424, 0.308780590220719], [Timestamp('2017-12-11 00:00:00'), -1.0, 0.0, 0.23282278296571884, 0.48519923797441117, 0.28197797905986977], [Timestamp('2017-12-12 00:00:00'), -1.0, 0.0, 0.32823017174238084, 0.4090804699486636, 0.2626893583089555], [Timestamp('2017-12-13 00:00:00'), -1.0, -1.0, 0.5187615084788737, 0.027732698060108522, 0.45350579346101794], [Timestamp('2017-12-14 00:00:00'), 1.0, -1.0, 0.3942025733584584, 0.2795405771095626, 0.32625684953197914], [Timestamp('2017-12-15 00:00:00'), 1.0, -1.0, 0.5878130738714261, 0.020650408680422002, 0.3915365174481517], [Timestamp('2017-12-18 00:00:00'), 0.0, -1.0, 0.37436046792323796, 0.3437673557386674, 0.28187217633809464], [Timestamp('2017-12-19 00:00:00'), 1.0, 0.0, 0.21524660568139684, 0.5187853659376832, 0.2659680283809202], [Timestamp('2017-12-20 00:00:00'), 1.0, 0.0, 0.32060832623722785, 0.4261881378318295, 0.2532035359309427], [Timestamp('2017-12-21 00:00:00'), -1.0, 0.0, 0.3366401699387206, 0.366191327606155, 0.29716850245512405], [Timestamp('2017-12-22 00:00:00'), 1.0, 0.0, 0.20488889875022434, 0.4790417385558739, 0.3160693626939018], [Timestamp('2017-12-25 00:00:00'), 1.0, 0.0, 0.28475498294991386, 0.4640495988888098, 0.2511954181612762], [Timestamp('2017-12-26 00:00:00'), 1.0, 0.0, 0.28452205956735305, 0.4629641942308796, 0.25251374620176736], [Timestamp('2017-12-27 00:00:00'), 0.0, 0.0, 0.1796377870229963, 0.5632334460051142, 0.2571287669718894], [Timestamp('2017-12-28 00:00:00'), 1.0, 0.0, 0.16419761676121988, 0.6027353295558142, 0.23306705368296593], [Timestamp('2017-12-29 00:00:00'), 1.0, 0.0, 0.2431020495168318, 0.5034500843659218, 0.25344786611724673], [Timestamp('2018-01-02 00:00:00'), 1.0, 0.0, 0.29173846780681345, 0.4102481457411562, 0.2980133864520304], [Timestamp('2018-01-03 00:00:00'), 1.0, 0.0, 0.1735025673147509, 0.5228629185812887, 0.30363451410396014], [Timestamp('2018-01-04 00:00:00'), 1.0, 0.0, 0.2427140368167113, 0.4608158379649741, 0.29647012521831473], [Timestamp('2018-01-05 00:00:00'), 1.0, 0.0, 0.16621755179204528, 0.5482472718429682, 0.28553517636498654], [Timestamp('2018-01-08 00:00:00'), -1.0, 0.0, 0.24956364211290058, 0.4473133008792677, 0.30312305700783165], [Timestamp('2018-01-09 00:00:00'), 1.0, 0.0, 0.15493698398269817, 0.5668559869604494, 0.2782070290568526], [Timestamp('2018-01-10 00:00:00'), 1.0, 0.0, 0.14692508374175434, 0.5739485517598538, 0.27912636449839184], [Timestamp('2018-01-11 00:00:00'), 1.0, -1.0, 0.5482574081998041, 0.02519080354237257, 0.42655178825782336], [Timestamp('2018-01-12 00:00:00'), 1.0, 0.0, 0.14614899359894465, 0.5814817438244912, 0.27236926257656413], [Timestamp('2018-01-15 00:00:00'), 1.0, 0.0, 0.14339073678141068, 0.6098031915406966, 0.2468060716778928], [Timestamp('2018-01-16 00:00:00'), 1.0, 0.0, 0.24509349268817365, 0.493919547024957, 0.26098696028686924], [Timestamp('2018-01-17 00:00:00'), -1.0, 1.0, 0.2943786334875229, 0.33328105693625476, 0.37234030957622233], [Timestamp('2018-01-18 00:00:00'), 1.0, 0.0, 0.1729716994378693, 0.42897612936112073, 0.39805217120101005], [Timestamp('2018-01-19 00:00:00'), 0.0, 0.0, 0.17603892829205017, 0.5092268346345767, 0.3147342370733733], [Timestamp('2018-01-22 00:00:00'), 1.0, 0.0, 0.24960231501452973, 0.4886282431305334, 0.2617694418549369], [Timestamp('2018-01-23 00:00:00'), 1.0, 0.0, 0.12851766508723508, 0.6192839391770018, 0.2521983957357631], [Timestamp('2018-01-24 00:00:00'), 1.0, 1.0, 0.3792698573658054, 0.16703998698521985, 0.45369015564897475], [Timestamp('2018-01-25 00:00:00'), 1.0, 1.0, 0.20834255404211283, 0.2666349039002812, 0.5250225420576059]]\n",
            "[[Timestamp('2017-10-26 00:00:00'), 1.0, -1.0, 0.5491757826767022, 0.15134242480815333, 0.2994817925151447], [Timestamp('2017-10-27 00:00:00'), 0.0, -1.0, 0.4400725276951752, 0.22633101739610811, 0.3335964549087167], [Timestamp('2017-10-30 00:00:00'), 1.0, -1.0, 0.5387007078551797, 0.1312408128836401, 0.33005847926118015], [Timestamp('2017-10-31 00:00:00'), -1.0, -1.0, 0.4230040873445244, 0.23449157666759873, 0.342504335987877], [Timestamp('2017-11-01 00:00:00'), 0.0, -1.0, 0.451892589240799, 0.22246267291640945, 0.32564473784279135], [Timestamp('2017-11-02 00:00:00'), -1.0, -1.0, 0.44827277365408424, 0.22195067195631138, 0.32977655438960424], [Timestamp('2017-11-03 00:00:00'), -1.0, -1.0, 0.45794818037352414, 0.22714632670781756, 0.31490549291865816], [Timestamp('2017-11-06 00:00:00'), -1.0, -1.0, 0.4467905728669541, 0.2517298550438658, 0.3014795720891801], [Timestamp('2017-11-07 00:00:00'), -1.0, 1.0, 0.46355651519024527, 0.04954783047269802, 0.4868956543370567], [Timestamp('2017-11-08 00:00:00'), -1.0, 1.0, 0.19641041235888476, 0.36647862524028346, 0.43711096240083186], [Timestamp('2017-11-09 00:00:00'), -1.0, -1.0, 0.46889748523061286, 0.1589255640448434, 0.3721769507245439], [Timestamp('2017-11-10 00:00:00'), -1.0, -1.0, 0.4820254496384895, 0.21074855730688488, 0.30722599305462567], [Timestamp('2017-11-13 00:00:00'), -1.0, -1.0, 0.4127605936700989, 0.1862152491447733, 0.401024157185128], [Timestamp('2017-11-14 00:00:00'), 1.0, 1.0, 0.34166650815083516, 0.02203988682470616, 0.6362936050244588], [Timestamp('2017-11-15 00:00:00'), 1.0, 1.0, 0.14424861887790524, 0.2758185371132082, 0.5799328440088867], [Timestamp('2017-11-16 00:00:00'), 1.0, -1.0, 0.46665815793387205, 0.17250047767215837, 0.36084136439396963], [Timestamp('2017-11-17 00:00:00'), 0.0, -1.0, 0.5072067201317252, 0.13139253045637933, 0.3614007494118957], [Timestamp('2017-11-20 00:00:00'), -1.0, -1.0, 0.44232562888568266, 0.2064310123007506, 0.3512433588135669], [Timestamp('2017-11-21 00:00:00'), 0.0, -1.0, 0.4530492941893913, 0.2072977672160821, 0.33965293859452667], [Timestamp('2017-11-22 00:00:00'), -1.0, 1.0, 0.34149745448355645, 0.27954205046688574, 0.3789604950495577], [Timestamp('2017-11-23 00:00:00'), -1.0, -1.0, 0.4165054683373759, 0.28437728333818113, 0.2991172483244428], [Timestamp('2017-11-24 00:00:00'), -1.0, -1.0, 0.433756863814066, 0.269516032532056, 0.29672710365387783], [Timestamp('2017-11-27 00:00:00'), -1.0, -1.0, 0.4393382262397241, 0.2527086882989172, 0.30795308546135874], [Timestamp('2017-11-28 00:00:00'), -1.0, -1.0, 0.3652292272103252, 0.27574453396444665, 0.3590262388252283], [Timestamp('2017-11-29 00:00:00'), 1.0, -1.0, 0.4544866452169403, 0.17657587182254203, 0.36893748296051737], [Timestamp('2017-11-30 00:00:00'), 0.0, 1.0, 0.32376907029265023, 0.30549424437028994, 0.37073668533705983], [Timestamp('2017-12-01 00:00:00'), -1.0, -1.0, 0.35867445158210787, 0.3295661515810455, 0.31175939683684684], [Timestamp('2017-12-04 00:00:00'), 0.0, -1.0, 0.5015196666605818, 0.2149142250022717, 0.28356610833714657], [Timestamp('2017-12-05 00:00:00'), 1.0, -1.0, 0.4731601219257437, 0.26328064177940724, 0.26355923629484923], [Timestamp('2017-12-06 00:00:00'), -1.0, 0.0, 0.3550371691930835, 0.3554640736658941, 0.2894987571410225], [Timestamp('2017-12-07 00:00:00'), -1.0, -1.0, 0.41312832411697026, 0.2407722604449575, 0.3460994154380723], [Timestamp('2017-12-08 00:00:00'), -1.0, -1.0, 0.38500801223405084, 0.36267697816896344, 0.2523150095969858], [Timestamp('2017-12-11 00:00:00'), -1.0, -1.0, 0.4701830851205252, 0.2885634809155498, 0.24125343396392476], [Timestamp('2017-12-12 00:00:00'), -1.0, -1.0, 0.4259283948967035, 0.3345588044338348, 0.23951280066946204], [Timestamp('2017-12-13 00:00:00'), 0.0, -1.0, 0.4464237671507839, 0.23125399399590196, 0.32232223885331396], [Timestamp('2017-12-14 00:00:00'), 1.0, -1.0, 0.4051184581007902, 0.329129521610272, 0.26575202028893796], [Timestamp('2017-12-15 00:00:00'), 1.0, -1.0, 0.38708442638961177, 0.3514739174466856, 0.2614416561637024], [Timestamp('2017-12-18 00:00:00'), 1.0, -1.0, 0.4040871942744969, 0.3588922012381873, 0.23702060448731546], [Timestamp('2017-12-19 00:00:00'), 1.0, -1.0, 0.473712149368401, 0.26459521241997, 0.26169263821162925], [Timestamp('2017-12-20 00:00:00'), 1.0, -1.0, 0.4056293077919389, 0.3481349231672151, 0.2462357690408463], [Timestamp('2017-12-21 00:00:00'), 1.0, -1.0, 0.3661406677624587, 0.35559049308207535, 0.2782688391554657], [Timestamp('2017-12-22 00:00:00'), 1.0, -1.0, 0.38629590351009413, 0.280357763491327, 0.33334633299857874], [Timestamp('2017-12-25 00:00:00'), 1.0, -1.0, 0.39097157705915364, 0.34678831251617054, 0.2622401104246759], [Timestamp('2017-12-26 00:00:00'), 1.0, -1.0, 0.380511524956794, 0.36001283148361635, 0.2594756435595895], [Timestamp('2017-12-27 00:00:00'), 1.0, -1.0, 0.4353985633209584, 0.2931570267731309, 0.2714444099059106], [Timestamp('2017-12-28 00:00:00'), 1.0, -1.0, 0.4372035733585306, 0.28918005123344964, 0.2736163754080197], [Timestamp('2017-12-29 00:00:00'), 1.0, -1.0, 0.39279544074102335, 0.3169778402090054, 0.2902267190499713], [Timestamp('2018-01-02 00:00:00'), 1.0, -1.0, 0.3616550713779452, 0.34600444477009457, 0.29234048385196054], [Timestamp('2018-01-03 00:00:00'), 0.0, -1.0, 0.39908940289480854, 0.27160800077654146, 0.32930259632864983], [Timestamp('2018-01-04 00:00:00'), 1.0, -1.0, 0.3847135325160714, 0.31276485045247576, 0.30252161703145264], [Timestamp('2018-01-05 00:00:00'), 1.0, -1.0, 0.41917210487163103, 0.29843269407341255, 0.2823952010549563], [Timestamp('2018-01-08 00:00:00'), 1.0, -1.0, 0.3862249491720349, 0.3068263016455285, 0.30694874918243675], [Timestamp('2018-01-09 00:00:00'), 1.0, -1.0, 0.43390140985758147, 0.2529879441808633, 0.31311064596155547], [Timestamp('2018-01-10 00:00:00'), 1.0, -1.0, 0.4513335876086439, 0.21458459449275852, 0.3340818178985976], [Timestamp('2018-01-11 00:00:00'), 1.0, -1.0, 0.3661559054418766, 0.324234064516457, 0.3096100300416663], [Timestamp('2018-01-12 00:00:00'), 1.0, -1.0, 0.4278864869325969, 0.22093319427197378, 0.3511803187954295], [Timestamp('2018-01-15 00:00:00'), 1.0, -1.0, 0.4649394772885058, 0.21351012222693133, 0.32155040048456296], [Timestamp('2018-01-16 00:00:00'), 1.0, -1.0, 0.4349297542759961, 0.23688260668131372, 0.32818763904269005], [Timestamp('2018-01-17 00:00:00'), 1.0, -1.0, 0.39839128377374783, 0.21033963746430417, 0.39126907876194783], [Timestamp('2018-01-18 00:00:00'), 1.0, 1.0, 0.4031235662017516, 0.15492189606273904, 0.44195453773550925], [Timestamp('2018-01-19 00:00:00'), 1.0, -1.0, 0.48851248960967664, 0.16316603461238924, 0.34832147577793415], [Timestamp('2018-01-22 00:00:00'), 1.0, -1.0, 0.4833816277791983, 0.16541604086659856, 0.35120233135420326], [Timestamp('2018-01-23 00:00:00'), 1.0, -1.0, 0.5181118302956504, 0.10594020194124032, 0.3759479677631092], [Timestamp('2018-01-24 00:00:00'), 1.0, 1.0, 0.40835059803719054, 0.12505382374302815, 0.4665955782197814], [Timestamp('2018-01-25 00:00:00'), 1.0, 1.0, 0.3324327064196038, 0.10572198118223279, 0.5618453123981635]]\n",
            "[[Timestamp('2017-10-26 00:00:00'), 0.0, -1.0, 0.6065062372045604, 0.0904229747247766, 0.30307078807066284], [Timestamp('2017-10-27 00:00:00'), 0.0, -1.0, 0.4827669638139324, 0.26556516646717326, 0.2516678697188943], [Timestamp('2017-10-30 00:00:00'), 0.0, -1.0, 0.5976005601934848, 0.10695001058385821, 0.2954494292226567], [Timestamp('2017-10-31 00:00:00'), -1.0, -1.0, 0.5023748621512518, 0.24538200595070378, 0.2522431318980442], [Timestamp('2017-11-01 00:00:00'), -1.0, -1.0, 0.48463665012209367, 0.2762474140869195, 0.2391159357909864], [Timestamp('2017-11-02 00:00:00'), -1.0, -1.0, 0.4975859485321257, 0.2649296904814534, 0.23748436098642114], [Timestamp('2017-11-03 00:00:00'), -1.0, -1.0, 0.5101487927244972, 0.2583822356803035, 0.23146897159519947], [Timestamp('2017-11-06 00:00:00'), -1.0, -1.0, 0.4665302201376267, 0.30279311216856925, 0.23067666769380427], [Timestamp('2017-11-07 00:00:00'), -1.0, -1.0, 0.48712671340109176, 0.0954836905262367, 0.41738959607267156], [Timestamp('2017-11-08 00:00:00'), -1.0, -1.0, 0.46745711674015655, 0.11535059530946795, 0.4171922879503755], [Timestamp('2017-11-09 00:00:00'), -1.0, -1.0, 0.5110253539696039, 0.21195395062888447, 0.27702069540151164], [Timestamp('2017-11-10 00:00:00'), -1.0, -1.0, 0.5426808203188429, 0.20791267169693053, 0.24940650798422687], [Timestamp('2017-11-13 00:00:00'), -1.0, -1.0, 0.529436209213615, 0.18425971307806863, 0.28630407770831656], [Timestamp('2017-11-14 00:00:00'), 1.0, 1.0, 0.35666551290448517, 0.11082918054830938, 0.5325053065472055], [Timestamp('2017-11-15 00:00:00'), 0.0, 1.0, 0.4514494842879885, 0.018472613059567756, 0.5300779026524437], [Timestamp('2017-11-16 00:00:00'), -1.0, -1.0, 0.4614237999021843, 0.19521666669824592, 0.3433595333995695], [Timestamp('2017-11-17 00:00:00'), -1.0, -1.0, 0.5327088109452143, 0.08731969455132257, 0.3799714945034632], [Timestamp('2017-11-20 00:00:00'), -1.0, -1.0, 0.5357219579964275, 0.17538199975741234, 0.2888960422461599], [Timestamp('2017-11-21 00:00:00'), -1.0, -1.0, 0.5595353242125983, 0.1689037057930054, 0.2715609699943963], [Timestamp('2017-11-22 00:00:00'), -1.0, -1.0, 0.5183312159070202, 0.19683257560156225, 0.2848362084914176], [Timestamp('2017-11-23 00:00:00'), -1.0, -1.0, 0.5523384286712028, 0.19864275497315398, 0.24901881635564357], [Timestamp('2017-11-24 00:00:00'), -1.0, -1.0, 0.5788518457915233, 0.18768458136484092, 0.23346357284363564], [Timestamp('2017-11-27 00:00:00'), -1.0, -1.0, 0.5953973653706947, 0.17138953330521497, 0.23321310132409093], [Timestamp('2017-11-28 00:00:00'), -1.0, -1.0, 0.5852785341428769, 0.17187277022338204, 0.24284869563374128], [Timestamp('2017-11-29 00:00:00'), 0.0, -1.0, 0.5880461027017377, 0.14837015890869087, 0.26358373838957105], [Timestamp('2017-11-30 00:00:00'), -1.0, -1.0, 0.6009431936246201, 0.14132719010613032, 0.2577296162692493], [Timestamp('2017-12-01 00:00:00'), -1.0, -1.0, 0.6009411703419314, 0.1789126057697927, 0.22014622388827565], [Timestamp('2017-12-04 00:00:00'), 0.0, -1.0, 0.641236985956114, 0.09356062809232986, 0.26520238595155626], [Timestamp('2017-12-05 00:00:00'), 0.0, -1.0, 0.6451714606227906, 0.10549785061243387, 0.24933068876477524], [Timestamp('2017-12-06 00:00:00'), -1.0, -1.0, 0.635567147330974, 0.16736367195016624, 0.19706918071885943], [Timestamp('2017-12-07 00:00:00'), 1.0, -1.0, 0.6604359417049167, 0.14309261343221366, 0.19647144486286985], [Timestamp('2017-12-08 00:00:00'), 1.0, -1.0, 0.6097444072606905, 0.1939974656318955, 0.19625812710741417], [Timestamp('2017-12-11 00:00:00'), 1.0, -1.0, 0.6275757142876374, 0.1417555164107436, 0.23066876930161911], [Timestamp('2017-12-12 00:00:00'), 1.0, -1.0, 0.5964161235738001, 0.2131583538323612, 0.1904255225938384], [Timestamp('2017-12-13 00:00:00'), 1.0, -1.0, 0.6559123227133786, 0.1432706217592518, 0.2008170555273696], [Timestamp('2017-12-14 00:00:00'), 1.0, -1.0, 0.6118864870495915, 0.17404180937111385, 0.21407170357929453], [Timestamp('2017-12-15 00:00:00'), 1.0, -1.0, 0.659948667556906, 0.1387860443706565, 0.20126528807243754], [Timestamp('2017-12-18 00:00:00'), 1.0, -1.0, 0.568575196637548, 0.21864840995685034, 0.21277639340560134], [Timestamp('2017-12-19 00:00:00'), 1.0, -1.0, 0.6085724151324535, 0.13323176937373882, 0.2581958154938077], [Timestamp('2017-12-20 00:00:00'), 1.0, -1.0, 0.5913895663396357, 0.2027756047040348, 0.20583482895632946], [Timestamp('2017-12-21 00:00:00'), 1.0, -1.0, 0.49531362329249057, 0.26241108165942645, 0.24227529504808304], [Timestamp('2017-12-22 00:00:00'), 1.0, -1.0, 0.6004507096693685, 0.11473939465442157, 0.28480989567620996], [Timestamp('2017-12-25 00:00:00'), 1.0, -1.0, 0.6288562062966836, 0.18540801874027538, 0.1857357749630412], [Timestamp('2017-12-26 00:00:00'), 1.0, -1.0, 0.6129307651977399, 0.1994275340464727, 0.1876417007557872], [Timestamp('2017-12-27 00:00:00'), 1.0, -1.0, 0.6488472449273333, 0.12717420627157297, 0.22397854880109397], [Timestamp('2017-12-28 00:00:00'), 1.0, -1.0, 0.6558110931265407, 0.12303613808723393, 0.2211527687862252], [Timestamp('2017-12-29 00:00:00'), 1.0, -1.0, 0.632141636383442, 0.17744369343095878, 0.1904146701855993], [Timestamp('2018-01-02 00:00:00'), 1.0, -1.0, 0.5904369675427459, 0.20354623281864165, 0.20601679963861252], [Timestamp('2018-01-03 00:00:00'), 1.0, -1.0, 0.6393877778029161, 0.11247149673070424, 0.24814072546637947], [Timestamp('2018-01-04 00:00:00'), 1.0, -1.0, 0.6483927329091017, 0.16368236277655504, 0.18792490431434342], [Timestamp('2018-01-05 00:00:00'), 1.0, -1.0, 0.6613464055953864, 0.11120031944992173, 0.22745327495469203], [Timestamp('2018-01-08 00:00:00'), 1.0, -1.0, 0.6319956116276244, 0.17076180794339027, 0.19724258042898557], [Timestamp('2018-01-09 00:00:00'), 1.0, -1.0, 0.6457053899961587, 0.1082994859756435, 0.24599512402819793], [Timestamp('2018-01-10 00:00:00'), 1.0, -1.0, 0.6282821804344495, 0.10638835506340265, 0.2653294645021478], [Timestamp('2018-01-11 00:00:00'), 1.0, -1.0, 0.6459130592566473, 0.14739077182420376, 0.2066961689191489], [Timestamp('2018-01-12 00:00:00'), 1.0, -1.0, 0.5918675415353309, 0.1118958143709865, 0.29623664409368283], [Timestamp('2018-01-15 00:00:00'), 1.0, -1.0, 0.6079284860716541, 0.11688345550617758, 0.27518805842216815], [Timestamp('2018-01-16 00:00:00'), 1.0, -1.0, 0.5783869714761583, 0.1917782151883105, 0.22983481333553102], [Timestamp('2018-01-17 00:00:00'), 1.0, -1.0, 0.5132924772811283, 0.21519383349925736, 0.2715136892196144], [Timestamp('2018-01-18 00:00:00'), 1.0, -1.0, 0.5861777510165685, 0.09119597718633456, 0.32262627179709696], [Timestamp('2018-01-19 00:00:00'), 1.0, -1.0, 0.6294057542810275, 0.10632380871220287, 0.2642704370067696], [Timestamp('2018-01-22 00:00:00'), 1.0, -1.0, 0.603124964281392, 0.17846571128489402, 0.21840932443371416], [Timestamp('2018-01-23 00:00:00'), 1.0, -1.0, 0.5912690288595418, 0.11147713220392783, 0.2972538389365306], [Timestamp('2018-01-24 00:00:00'), 0.0, -1.0, 0.4169819763758257, 0.25371688471004766, 0.32930113891412677], [Timestamp('2018-01-25 00:00:00'), 0.0, -1.0, 0.5184007246364095, 0.08291628353325507, 0.39868299183033534]]\n"
          ],
          "name": "stdout"
        }
      ]
    },
    {
      "cell_type": "code",
      "metadata": {
        "colab": {
          "base_uri": "https://localhost:8080/"
        },
        "id": "zry0UG-gHoZj",
        "outputId": "34cb5fd2-63e5-489a-ad9d-a24d46fcde37"
      },
      "source": [
        "import statistics\n",
        "trade_instruction = []\n",
        "for i in range(len(res1)):\n",
        "    media = np.mean([res1[i][2],res2[i][2],res5[i][2],res10[i][2]])\n",
        "    if media>0:\n",
        "        trade_instruction.append([res1[i][0],\"Comprar\"])\n",
        "    elif media==0:\n",
        "        trade_instruction.append([res1[i][0],\"Manter\"])\n",
        "    elif media<0:\n",
        "        trade_instruction.append([res1[i][0],\"Vender\"])\n",
        "print(len(trade_instruction))"
      ],
      "execution_count": 31,
      "outputs": [
        {
          "output_type": "stream",
          "text": [
            "65\n"
          ],
          "name": "stdout"
        }
      ]
    },
    {
      "cell_type": "code",
      "metadata": {
        "colab": {
          "base_uri": "https://localhost:8080/",
          "height": 505
        },
        "id": "Hj5oCK4rTBH-",
        "outputId": "85393aa6-8510-4858-91cc-dd23f58201d6"
      },
      "source": [
        "fig, ax = plt.subplots(figsize=(25, 7.5))\n",
        "sn.lineplot(data=df_petr4[\"Close\"].iloc[dia_ini_train_idx:dia_ini_test_idx],ax=ax)\n",
        "style = dict(size=8, color='gray')\n",
        "for i in range(len(trade_instruction)):\n",
        "    ax.text(trade_instruction[i][0], df_petr4[\"Close\"].iloc[dia_ini_train_idx:dia_ini_test_idx].iloc[i]+.5, trade_instruction[i][1],**style)"
      ],
      "execution_count": 32,
      "outputs": [
        {
          "output_type": "display_data",
          "data": {
            "image/png": "[encoded data removed]",
            "text/plain": [
              "<Figure size 1800x540 with 1 Axes>"
            ]
          },
          "metadata": {
            "tags": [],
            "needs_background": "light"
          }
        }
      ]
    },
    {
      "cell_type": "code",
      "metadata": {
        "colab": {
          "base_uri": "https://localhost:8080/"
        },
        "id": "iAiAymftWxuA",
        "outputId": "6cc09372-a7d8-4727-d728-7d6f1793243b"
      },
      "source": [
        "stock = 100\n",
        "cash = 0\n",
        "for i in range(len(trade_instruction)):\n",
        "\n",
        "    if cash <=0 and stock <=0:\n",
        "        print(i,stock,cash)\n",
        "        break\n",
        "    elif trade_instruction[i][1] == \"Comprar\":\n",
        "        if cash > 0:\n",
        "            stock += (cash/2)/df_petr4[\"Close\"].loc[trade_instruction[i][0]]\n",
        "            cash = cash/2\n",
        "            print(i,stock,cash,\"c\")\n",
        "        elif cash == 0 and stock > 0:\n",
        "            \n",
        "            pass\n",
        "        elif cash <=0 and stock <=0:\n",
        "            \n",
        "            break\n",
        "        print(i,stock,cash,\"c\")\n",
        "    elif trade_instruction[i][1] == \"Manter\":\n",
        "        print(i,stock,cash,\"m\")\n",
        "        pass\n",
        "    elif trade_instruction[i][1] == \"Vender\":\n",
        "        if stock > 0:\n",
        "            stock = 0.25*stock\n",
        "            cash += (stock*.75)*df_petr4[\"Close\"].loc[trade_instruction[i][0]]\n",
        "            print(i,stock,cash,\"v\")\n",
        "        elif cash > 0 and stock == 0:\n",
        "            \n",
        "            pass\n",
        "        elif cash <=0 and stock <=0:\n",
        "            \n",
        "            break        \n",
        "        print(i,stock,cash,\"v\")\n",
        "    \n",
        "print(i,stock,cash)\n"
      ],
      "execution_count": 34,
      "outputs": [
        {
          "output_type": "stream",
          "text": [
            "0 25.0 281.5334916114807 v\n",
            "0 25.0 281.5334916114807 v\n",
            "1 6.25 353.1789645552635 v\n",
            "1 6.25 353.1789645552635 v\n",
            "2 1.5625 370.8273947238922 v\n",
            "2 1.5625 370.8273947238922 v\n",
            "3 0.390625 375.2368723042309 v\n",
            "3 0.390625 375.2368723042309 v\n",
            "4 0.09765625 376.347787049599 v\n",
            "4 0.09765625 376.347787049599 v\n",
            "5 0.0244140625 376.625515735941 v\n",
            "5 0.0244140625 376.625515735941 v\n",
            "6 0.006103515625 376.6951122539467 v\n",
            "6 0.006103515625 376.6951122539467 v\n",
            "7 0.00152587890625 376.7130146632553 v\n",
            "7 0.00152587890625 376.7130146632553 v\n",
            "8 12.720845272239176 188.35650733162765 c\n",
            "8 12.720845272239176 188.35650733162765 c\n",
            "9 3.180211318059794 224.64088915525775 v\n",
            "9 3.180211318059794 224.64088915525775 v\n",
            "10 0.7950528295149485 233.58889569697058 v\n",
            "10 0.7950528295149485 233.58889569697058 v\n",
            "11 0.19876320737873712 235.8258973323988 v\n",
            "11 0.19876320737873712 235.8258973323988 v\n",
            "12 0.04969080184468428 236.3824719184744 v\n",
            "12 0.04969080184468428 236.3824719184744 v\n",
            "13 8.628838226137335 118.1912359592372 c\n",
            "13 8.628838226137335 118.1912359592372 c\n",
            "14 8.628838226137335 118.1912359592372 m\n",
            "15 2.1572095565343337 141.14840141115027 v\n",
            "15 2.1572095565343337 141.14840141115027 v\n",
            "16 0.5393023891335834 146.96392678372837 v\n",
            "16 0.5393023891335834 146.96392678372837 v\n",
            "17 0.13482559728339585 148.4178081268729 v\n",
            "17 0.13482559728339585 148.4178081268729 v\n",
            "18 0.03370639932084896 148.77855581945903 v\n",
            "18 0.03370639932084896 148.77855581945903 v\n",
            "19 0.00842659983021224 148.86993388092404 v\n",
            "19 0.00842659983021224 148.86993388092404 v\n",
            "20 0.00210664995755306 148.89289183975697 v\n",
            "20 0.00210664995755306 148.89289183975697 v\n",
            "21 0.000526662489388265 148.8985994238669 v\n",
            "21 0.000526662489388265 148.8985994238669 v\n",
            "22 0.00013166562234706626 148.90000593561564 v\n",
            "22 0.00013166562234706626 148.90000593561564 v\n",
            "23 3.2916405586766566e-05 148.90035689886855 v\n",
            "23 3.2916405586766566e-05 148.90035689886855 v\n",
            "24 8.229101396691641e-06 148.90044181468534 v\n",
            "24 8.229101396691641e-06 148.90044181468534 v\n",
            "25 2.0572753491729104e-06 148.90046311287995 v\n",
            "25 2.0572753491729104e-06 148.90046311287995 v\n",
            "26 5.143188372932276e-07 148.9004685170547 v\n",
            "26 5.143188372932276e-07 148.9004685170547 v\n",
            "27 1.285797093233069e-07 148.9004698568469 v\n",
            "27 1.285797093233069e-07 148.9004698568469 v\n",
            "28 3.2144927330826724e-08 148.9004701881166 v\n",
            "28 3.2144927330826724e-08 148.9004701881166 v\n",
            "29 8.036231832706681e-09 148.90047027206998 v\n",
            "29 8.036231832706681e-09 148.90047027206998 v\n",
            "30 2.0090579581766703e-09 148.90047029270673 v\n",
            "30 2.0090579581766703e-09 148.90047029270673 v\n",
            "31 5.022644895441676e-10 148.90047029789633 v\n",
            "31 5.022644895441676e-10 148.90047029789633 v\n",
            "32 1.255661223860419e-10 148.9004702991963 v\n",
            "32 1.255661223860419e-10 148.9004702991963 v\n",
            "33 3.139153059651047e-11 148.9004702995236 v\n",
            "33 3.139153059651047e-11 148.9004702995236 v\n",
            "34 7.847882649127618e-12 148.90047029960377 v\n",
            "34 7.847882649127618e-12 148.90047029960377 v\n",
            "35 1.9619706622819046e-12 148.90047029962358 v\n",
            "35 1.9619706622819046e-12 148.90047029962358 v\n",
            "36 4.904926655704761e-13 148.90047029962852 v\n",
            "36 4.904926655704761e-13 148.90047029962852 v\n",
            "37 1.2262316639261904e-13 148.90047029962977 v\n",
            "37 1.2262316639261904e-13 148.90047029962977 v\n",
            "38 3.065579159815476e-14 148.9004702996301 v\n",
            "38 3.065579159815476e-14 148.9004702996301 v\n",
            "39 7.66394789953869e-15 148.90047029963017 v\n",
            "39 7.66394789953869e-15 148.90047029963017 v\n",
            "40 1.9159869748846724e-15 148.9004702996302 v\n",
            "40 1.9159869748846724e-15 148.9004702996302 v\n",
            "41 4.789967437211681e-16 148.9004702996302 v\n",
            "41 4.789967437211681e-16 148.9004702996302 v\n",
            "42 1.1974918593029203e-16 148.9004702996302 v\n",
            "42 1.1974918593029203e-16 148.9004702996302 v\n",
            "43 2.9937296482573007e-17 148.9004702996302 v\n",
            "43 2.9937296482573007e-17 148.9004702996302 v\n",
            "44 7.484324120643252e-18 148.9004702996302 v\n",
            "44 7.484324120643252e-18 148.9004702996302 v\n",
            "45 1.871081030160813e-18 148.9004702996302 v\n",
            "45 1.871081030160813e-18 148.9004702996302 v\n",
            "46 4.677702575402032e-19 148.9004702996302 v\n",
            "46 4.677702575402032e-19 148.9004702996302 v\n",
            "47 1.169425643850508e-19 148.9004702996302 v\n",
            "47 1.169425643850508e-19 148.9004702996302 v\n",
            "48 2.92356410962627e-20 148.9004702996302 v\n",
            "48 2.92356410962627e-20 148.9004702996302 v\n",
            "49 7.308910274065675e-21 148.9004702996302 v\n",
            "49 7.308910274065675e-21 148.9004702996302 v\n",
            "50 1.827227568516419e-21 148.9004702996302 v\n",
            "50 1.827227568516419e-21 148.9004702996302 v\n",
            "51 4.568068921291047e-22 148.9004702996302 v\n",
            "51 4.568068921291047e-22 148.9004702996302 v\n",
            "52 1.1420172303227618e-22 148.9004702996302 v\n",
            "52 1.1420172303227618e-22 148.9004702996302 v\n",
            "53 2.8550430758069045e-23 148.9004702996302 v\n",
            "53 2.8550430758069045e-23 148.9004702996302 v\n",
            "54 7.137607689517261e-24 148.9004702996302 v\n",
            "54 7.137607689517261e-24 148.9004702996302 v\n",
            "55 1.7844019223793153e-24 148.9004702996302 v\n",
            "55 1.7844019223793153e-24 148.9004702996302 v\n",
            "56 4.461004805948288e-25 148.9004702996302 v\n",
            "56 4.461004805948288e-25 148.9004702996302 v\n",
            "57 1.115251201487072e-25 148.9004702996302 v\n",
            "57 1.115251201487072e-25 148.9004702996302 v\n",
            "58 1.115251201487072e-25 148.9004702996302 m\n",
            "59 4.552867188487763 74.4502351498151 c\n",
            "59 4.552867188487763 74.4502351498151 c\n",
            "60 1.1382167971219408 88.44030245489665 v\n",
            "60 1.1382167971219408 88.44030245489665 v\n",
            "61 0.2845541992804852 91.97804272210298 v\n",
            "61 0.2845541992804852 91.97804272210298 v\n",
            "62 0.0711385498201213 92.85146412108547 v\n",
            "62 0.0711385498201213 92.85146412108547 v\n",
            "63 2.7458041058976392 46.425732060542735 c\n",
            "63 2.7458041058976392 46.425732060542735 c\n",
            "64 4.083136883936398 23.212866030271368 c\n",
            "64 4.083136883936398 23.212866030271368 c\n",
            "64 4.083136883936398 23.212866030271368\n"
          ],
          "name": "stdout"
        }
      ]
    }
  ]
}