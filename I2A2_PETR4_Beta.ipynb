{
  "nbformat": 4,
  "nbformat_minor": 0,
  "metadata": {
    "colab": {
      "name": "I2A2 - PETR4 - Beta",
      "provenance": [],
      "collapsed_sections": [],
      "authorship_tag": "ABX9TyPtQCxrZ4w3LloFPEVeqD7Q",
      "include_colab_link": true
    },
    "kernelspec": {
      "name": "python3",
      "display_name": "Python 3"
    },
    "language_info": {
      "name": "python"
    }
  },
  "cells": [
    {
      "cell_type": "markdown",
      "metadata": {
        "id": "view-in-github",
        "colab_type": "text"
      },
      "source": [
        "<a href=\"https://colab.research.google.com/github/nakanoelio/i2a2-challenge-petr4-trad-sys/blob/main/I2A2_PETR4_Beta.ipynb\" target=\"_parent\"><img src=\"https://colab.research.google.com/assets/colab-badge.svg\" alt=\"Open In Colab\"/></a>"
      ]
    },
    {
      "cell_type": "code",
      "metadata": {
        "colab": {
          "base_uri": "https://localhost:8080/"
        },
        "id": "iTpDLc3eT5c2",
        "outputId": "d574230b-71cf-4c68-c31c-49d8fb2cf8c1"
      },
      "source": [
        "!pip install yfinance\n",
        "!pip install --upgrade mplfinance\n",
        "\n",
        "#Instalação da Biblioteca TA-lib\n",
        "url = 'https://launchpad.net/~mario-mariomedina/+archive/ubuntu/talib/+files'\n",
        "!wget $url/libta-lib0_0.4.0-oneiric1_amd64.deb -qO libta.deb\n",
        "!wget $url/ta-lib0-dev_0.4.0-oneiric1_amd64.deb -qO ta.deb\n",
        "!dpkg -i libta.deb ta.deb\n",
        "!pip install ta-lib"
      ],
      "execution_count": null,
      "outputs": [
        {
          "output_type": "stream",
          "text": [
            "Collecting yfinance\n",
            "  Downloading https://files.pythonhosted.org/packages/a7/ee/315752b9ef281ba83c62aa7ec2e2074f85223da6e7e74efb4d3e11c0f510/yfinance-0.1.59.tar.gz\n",
            "Requirement already satisfied: pandas>=0.24 in /usr/local/lib/python3.7/dist-packages (from yfinance) (1.1.5)\n",
            "Requirement already satisfied: numpy>=1.15 in /usr/local/lib/python3.7/dist-packages (from yfinance) (1.19.5)\n",
            "Requirement already satisfied: requests>=2.20 in /usr/local/lib/python3.7/dist-packages (from yfinance) (2.23.0)\n",
            "Requirement already satisfied: multitasking>=0.0.7 in /usr/local/lib/python3.7/dist-packages (from yfinance) (0.0.9)\n",
            "Collecting lxml>=4.5.1\n",
            "\u001b[?25l  Downloading https://files.pythonhosted.org/packages/30/c0/d0526314971fc661b083ab135747dc68446a3022686da8c16d25fcf6ef07/lxml-4.6.3-cp37-cp37m-manylinux2014_x86_64.whl (6.3MB)\n",
            "\u001b[K     |████████████████████████████████| 6.3MB 4.4MB/s \n",
            "\u001b[?25hRequirement already satisfied: python-dateutil>=2.7.3 in /usr/local/lib/python3.7/dist-packages (from pandas>=0.24->yfinance) (2.8.1)\n",
            "Requirement already satisfied: pytz>=2017.2 in /usr/local/lib/python3.7/dist-packages (from pandas>=0.24->yfinance) (2018.9)\n",
            "Requirement already satisfied: certifi>=2017.4.17 in /usr/local/lib/python3.7/dist-packages (from requests>=2.20->yfinance) (2020.12.5)\n",
            "Requirement already satisfied: urllib3!=1.25.0,!=1.25.1,<1.26,>=1.21.1 in /usr/local/lib/python3.7/dist-packages (from requests>=2.20->yfinance) (1.24.3)\n",
            "Requirement already satisfied: chardet<4,>=3.0.2 in /usr/local/lib/python3.7/dist-packages (from requests>=2.20->yfinance) (3.0.4)\n",
            "Requirement already satisfied: idna<3,>=2.5 in /usr/local/lib/python3.7/dist-packages (from requests>=2.20->yfinance) (2.10)\n",
            "Requirement already satisfied: six>=1.5 in /usr/local/lib/python3.7/dist-packages (from python-dateutil>=2.7.3->pandas>=0.24->yfinance) (1.15.0)\n",
            "Building wheels for collected packages: yfinance\n",
            "  Building wheel for yfinance (setup.py) ... \u001b[?25l\u001b[?25hdone\n",
            "  Created wheel for yfinance: filename=yfinance-0.1.59-py2.py3-none-any.whl size=23442 sha256=ffc0ec952f3ef1e7747c693e09774c8ce5f2d3732a36265c70048bb58b581f73\n",
            "  Stored in directory: /root/.cache/pip/wheels/f8/2a/0f/4b5a86e1d52e451757eb6bc17fd899629f0925c777741b6d04\n",
            "Successfully built yfinance\n",
            "Installing collected packages: lxml, yfinance\n",
            "  Found existing installation: lxml 4.2.6\n",
            "    Uninstalling lxml-4.2.6:\n",
            "      Successfully uninstalled lxml-4.2.6\n",
            "Successfully installed lxml-4.6.3 yfinance-0.1.59\n",
            "Collecting mplfinance\n",
            "\u001b[?25l  Downloading https://files.pythonhosted.org/packages/3f/4e/a3de915df8d112579beb3df22e47b3929670b10e9c5dfd4a2b31bf1a34a7/mplfinance-0.12.7a17-py3-none-any.whl (62kB)\n",
            "\u001b[K     |████████████████████████████████| 71kB 3.0MB/s \n",
            "\u001b[?25hRequirement already satisfied, skipping upgrade: matplotlib in /usr/local/lib/python3.7/dist-packages (from mplfinance) (3.2.2)\n",
            "Requirement already satisfied, skipping upgrade: pandas in /usr/local/lib/python3.7/dist-packages (from mplfinance) (1.1.5)\n",
            "Requirement already satisfied, skipping upgrade: python-dateutil>=2.1 in /usr/local/lib/python3.7/dist-packages (from matplotlib->mplfinance) (2.8.1)\n",
            "Requirement already satisfied, skipping upgrade: pyparsing!=2.0.4,!=2.1.2,!=2.1.6,>=2.0.1 in /usr/local/lib/python3.7/dist-packages (from matplotlib->mplfinance) (2.4.7)\n",
            "Requirement already satisfied, skipping upgrade: cycler>=0.10 in /usr/local/lib/python3.7/dist-packages (from matplotlib->mplfinance) (0.10.0)\n",
            "Requirement already satisfied, skipping upgrade: numpy>=1.11 in /usr/local/lib/python3.7/dist-packages (from matplotlib->mplfinance) (1.19.5)\n",
            "Requirement already satisfied, skipping upgrade: kiwisolver>=1.0.1 in /usr/local/lib/python3.7/dist-packages (from matplotlib->mplfinance) (1.3.1)\n",
            "Requirement already satisfied, skipping upgrade: pytz>=2017.2 in /usr/local/lib/python3.7/dist-packages (from pandas->mplfinance) (2018.9)\n",
            "Requirement already satisfied, skipping upgrade: six>=1.5 in /usr/local/lib/python3.7/dist-packages (from python-dateutil>=2.1->matplotlib->mplfinance) (1.15.0)\n",
            "Installing collected packages: mplfinance\n",
            "Successfully installed mplfinance-0.12.7a17\n",
            "Selecting previously unselected package libta-lib0.\n",
            "(Reading database ... 160706 files and directories currently installed.)\n",
            "Preparing to unpack libta.deb ...\n",
            "Unpacking libta-lib0 (0.4.0-oneiric1) ...\n",
            "Selecting previously unselected package ta-lib0-dev.\n",
            "Preparing to unpack ta.deb ...\n",
            "Unpacking ta-lib0-dev (0.4.0-oneiric1) ...\n",
            "Setting up libta-lib0 (0.4.0-oneiric1) ...\n",
            "Setting up ta-lib0-dev (0.4.0-oneiric1) ...\n",
            "Processing triggers for man-db (2.8.3-2ubuntu0.1) ...\n",
            "Processing triggers for libc-bin (2.27-3ubuntu1.2) ...\n",
            "/sbin/ldconfig.real: /usr/local/lib/python3.7/dist-packages/ideep4py/lib/libmkldnn.so.0 is not a symbolic link\n",
            "\n",
            "Collecting ta-lib\n",
            "\u001b[?25l  Downloading https://files.pythonhosted.org/packages/1f/fd/cb3b4255f2639e3478d75750d06e0d8f3342d7f8f28e8d855198769d3ede/TA-Lib-0.4.20.tar.gz (266kB)\n",
            "\u001b[K     |████████████████████████████████| 276kB 4.0MB/s \n",
            "\u001b[?25hRequirement already satisfied: numpy in /usr/local/lib/python3.7/dist-packages (from ta-lib) (1.19.5)\n",
            "Building wheels for collected packages: ta-lib\n",
            "  Building wheel for ta-lib (setup.py) ... \u001b[?25l\u001b[?25hdone\n",
            "  Created wheel for ta-lib: filename=TA_Lib-0.4.20-cp37-cp37m-linux_x86_64.whl size=1436193 sha256=6c5190a9494a122406d79b5c72afcc5106fcabc558870f457285c49d36f3640f\n",
            "  Stored in directory: /root/.cache/pip/wheels/d9/2f/34/7636a227222011ad010012e6bdf3a2abfaf1da255d9bdd532b\n",
            "Successfully built ta-lib\n",
            "Installing collected packages: ta-lib\n",
            "Successfully installed ta-lib-0.4.20\n"
          ],
          "name": "stdout"
        }
      ]
    },
    {
      "cell_type": "code",
      "metadata": {
        "id": "rTH6ICAmT-01"
      },
      "source": [
        "import numpy as np\n",
        "import pandas as pd\n",
        "import scipy as sp\n",
        "import seaborn as sn\n",
        "import matplotlib.pyplot as plt\n",
        "\n",
        "import yfinance as yf\n",
        "\n",
        "import talib as ta\n",
        "\n",
        "from sklearn import metrics\n",
        "from sklearn.naive_bayes import GaussianNB, MultinomialNB, ComplementNB, BernoulliNB, CategoricalNB\n",
        "from sklearn.linear_model import LinearRegression"
      ],
      "execution_count": null,
      "outputs": []
    },
    {
      "cell_type": "code",
      "metadata": {
        "id": "rsWde-1WULbE"
      },
      "source": [
        "stock_ticker = 'PETR4.SA'\n",
        "start_date = '2015-11-30'\n",
        "end_date = '2021-5-27'\n",
        "\n",
        "yf_petr4 = yf.Ticker(stock_ticker)\n",
        "df_petr4 = yf_petr4.history(start=start_date, end=end_date)\n",
        "\n",
        "stock_ticker = '^BVSP'\n",
        "yf_ibov = yf.Ticker(stock_ticker)\n",
        "df_ibov = yf_ibov.history(start=start_date, end=end_date)"
      ],
      "execution_count": null,
      "outputs": []
    },
    {
      "cell_type": "code",
      "metadata": {
        "id": "CvR9zDoHXHoy"
      },
      "source": [
        "df_ibov"
      ],
      "execution_count": null,
      "outputs": []
    },
    {
      "cell_type": "code",
      "metadata": {
        "id": "rWrQcr_qXOLh"
      },
      "source": [
        "df_petr4"
      ],
      "execution_count": null,
      "outputs": []
    },
    {
      "cell_type": "code",
      "metadata": {
        "id": "FAP14-ROf2GO"
      },
      "source": [
        "df_petr4_beta = pd.concat([df_ibov[\"Close\"].pct_change(),df_petr4[\"Close\"].pct_change()],axis=1,ignore_index=True)\n",
        "\n",
        "df_petr4_beta.columns=[\"Close_IBOV\",\"Close_PETR4\"]\n",
        "\n",
        "df_petr4_beta[\"Beta\"] = df_petr4_beta[\"Close_PETR4\"].rolling(30).cov(df_petr4_beta[\"Close_IBOV\"].rolling(30))/df_petr4_beta[\"Close_IBOV\"].rolling(30).var()\n",
        "\n",
        "df_petr4_beta[\"Beta_expected_PETR4\"] = df_petr4_beta[\"Close_IBOV\"]*df_petr4_beta[\"Beta\"]\n",
        "\n",
        "df_petr4_beta[\"PETR4_Excess_Variat\"] = (df_petr4_beta[\"Close_PETR4\"] - df_petr4_beta[\"Beta_expected_PETR4\"])/df_petr4_beta[\"Beta_expected_PETR4\"]\n",
        "\n",
        "var_tolerance = df_petr4_beta[\"Close_IBOV\"].var()/df_petr4_beta[\"Close_IBOV\"].mean()\n",
        "\n",
        "df_petr4_beta.fillna(0,inplace=True)\n",
        "df_petr4_beta.loc[df_petr4_beta[\"PETR4_Excess_Variat\"]  > var_tolerance, \"PETR4_Excess_Variat_Disc\"] = 3\n",
        "df_petr4_beta.loc[df_petr4_beta[\"PETR4_Excess_Variat\"] <= var_tolerance , \"PETR4_Excess_Variat_Disc\"] = 2\n",
        "df_petr4_beta.loc[df_petr4_beta[\"PETR4_Excess_Variat\"] >= -var_tolerance , \"PETR4_Excess_Variat_Disc\"] = 2\n",
        "df_petr4_beta.loc[df_petr4_beta[\"PETR4_Excess_Variat\"]  < -var_tolerance, \"PETR4_Excess_Variat_Disc\"] = 1"
      ],
      "execution_count": null,
      "outputs": []
    },
    {
      "cell_type": "code",
      "metadata": {
        "colab": {
          "base_uri": "https://localhost:8080/",
          "height": 450
        },
        "id": "aFlwMw1we1tV",
        "outputId": "68ebecbb-c8b0-4b59-82cd-ca7eb842e394"
      },
      "source": [
        "df_petr4_beta"
      ],
      "execution_count": null,
      "outputs": [
        {
          "output_type": "execute_result",
          "data": {
            "text/html": [
              "<div>\n",
              "<style scoped>\n",
              "    .dataframe tbody tr th:only-of-type {\n",
              "        vertical-align: middle;\n",
              "    }\n",
              "\n",
              "    .dataframe tbody tr th {\n",
              "        vertical-align: top;\n",
              "    }\n",
              "\n",
              "    .dataframe thead th {\n",
              "        text-align: right;\n",
              "    }\n",
              "</style>\n",
              "<table border=\"1\" class=\"dataframe\">\n",
              "  <thead>\n",
              "    <tr style=\"text-align: right;\">\n",
              "      <th></th>\n",
              "      <th>Close_IBOV</th>\n",
              "      <th>Close_PETR4</th>\n",
              "      <th>Beta</th>\n",
              "      <th>Beta_expected_PETR4</th>\n",
              "      <th>PETR4_Excess_Variat</th>\n",
              "      <th>PETR4_Excess_Variat_Disc</th>\n",
              "    </tr>\n",
              "    <tr>\n",
              "      <th>Date</th>\n",
              "      <th></th>\n",
              "      <th></th>\n",
              "      <th></th>\n",
              "      <th></th>\n",
              "      <th></th>\n",
              "      <th></th>\n",
              "    </tr>\n",
              "  </thead>\n",
              "  <tbody>\n",
              "    <tr>\n",
              "      <th>2015-11-30</th>\n",
              "      <td>0.000000</td>\n",
              "      <td>0.000000</td>\n",
              "      <td>0.000000</td>\n",
              "      <td>0.000000</td>\n",
              "      <td>0.000000</td>\n",
              "      <td>2.0</td>\n",
              "    </tr>\n",
              "    <tr>\n",
              "      <th>2015-12-01</th>\n",
              "      <td>-0.001618</td>\n",
              "      <td>-0.023468</td>\n",
              "      <td>0.000000</td>\n",
              "      <td>0.000000</td>\n",
              "      <td>0.000000</td>\n",
              "      <td>2.0</td>\n",
              "    </tr>\n",
              "    <tr>\n",
              "      <th>2015-12-02</th>\n",
              "      <td>-0.002930</td>\n",
              "      <td>0.004005</td>\n",
              "      <td>0.000000</td>\n",
              "      <td>0.000000</td>\n",
              "      <td>0.000000</td>\n",
              "      <td>2.0</td>\n",
              "    </tr>\n",
              "    <tr>\n",
              "      <th>2015-12-03</th>\n",
              "      <td>0.032907</td>\n",
              "      <td>0.061170</td>\n",
              "      <td>0.000000</td>\n",
              "      <td>0.000000</td>\n",
              "      <td>0.000000</td>\n",
              "      <td>2.0</td>\n",
              "    </tr>\n",
              "    <tr>\n",
              "      <th>2015-12-04</th>\n",
              "      <td>-0.022245</td>\n",
              "      <td>-0.057644</td>\n",
              "      <td>0.000000</td>\n",
              "      <td>0.000000</td>\n",
              "      <td>0.000000</td>\n",
              "      <td>2.0</td>\n",
              "    </tr>\n",
              "    <tr>\n",
              "      <th>...</th>\n",
              "      <td>...</td>\n",
              "      <td>...</td>\n",
              "      <td>...</td>\n",
              "      <td>...</td>\n",
              "      <td>...</td>\n",
              "      <td>...</td>\n",
              "    </tr>\n",
              "    <tr>\n",
              "      <th>2021-05-20</th>\n",
              "      <td>0.000530</td>\n",
              "      <td>-0.008413</td>\n",
              "      <td>1.414554</td>\n",
              "      <td>0.000750</td>\n",
              "      <td>-12.221082</td>\n",
              "      <td>1.0</td>\n",
              "    </tr>\n",
              "    <tr>\n",
              "      <th>2021-05-21</th>\n",
              "      <td>-0.000888</td>\n",
              "      <td>0.000771</td>\n",
              "      <td>1.455016</td>\n",
              "      <td>-0.001293</td>\n",
              "      <td>-1.596748</td>\n",
              "      <td>1.0</td>\n",
              "    </tr>\n",
              "    <tr>\n",
              "      <th>2021-05-24</th>\n",
              "      <td>0.011746</td>\n",
              "      <td>0.016956</td>\n",
              "      <td>1.453604</td>\n",
              "      <td>0.017074</td>\n",
              "      <td>-0.006958</td>\n",
              "      <td>2.0</td>\n",
              "    </tr>\n",
              "    <tr>\n",
              "      <th>2021-05-25</th>\n",
              "      <td>-0.008417</td>\n",
              "      <td>-0.020841</td>\n",
              "      <td>1.513370</td>\n",
              "      <td>-0.012738</td>\n",
              "      <td>0.636103</td>\n",
              "      <td>2.0</td>\n",
              "    </tr>\n",
              "    <tr>\n",
              "      <th>2021-05-26</th>\n",
              "      <td>0.008139</td>\n",
              "      <td>0.009675</td>\n",
              "      <td>1.506374</td>\n",
              "      <td>0.012260</td>\n",
              "      <td>-0.210879</td>\n",
              "      <td>2.0</td>\n",
              "    </tr>\n",
              "  </tbody>\n",
              "</table>\n",
              "<p>1360 rows × 6 columns</p>\n",
              "</div>"
            ],
            "text/plain": [
              "            Close_IBOV  ...  PETR4_Excess_Variat_Disc\n",
              "Date                    ...                          \n",
              "2015-11-30    0.000000  ...                       2.0\n",
              "2015-12-01   -0.001618  ...                       2.0\n",
              "2015-12-02   -0.002930  ...                       2.0\n",
              "2015-12-03    0.032907  ...                       2.0\n",
              "2015-12-04   -0.022245  ...                       2.0\n",
              "...                ...  ...                       ...\n",
              "2021-05-20    0.000530  ...                       1.0\n",
              "2021-05-21   -0.000888  ...                       1.0\n",
              "2021-05-24    0.011746  ...                       2.0\n",
              "2021-05-25   -0.008417  ...                       2.0\n",
              "2021-05-26    0.008139  ...                       2.0\n",
              "\n",
              "[1360 rows x 6 columns]"
            ]
          },
          "metadata": {
            "tags": []
          },
          "execution_count": 118
        }
      ]
    }
  ]
}